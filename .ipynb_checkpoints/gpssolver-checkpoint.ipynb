{
 "cells": [
  {
   "cell_type": "code",
   "execution_count": 56,
   "metadata": {},
   "outputs": [
    {
     "data": {
      "text/plain": [
       "9000000000000"
      ]
     },
     "execution_count": 56,
     "metadata": {},
     "output_type": "execute_result"
    }
   ],
   "source": [
    "setprecision(256)\n",
    "\n",
    "using Plots\n",
    "\n",
    "plotly()\n",
    "\n",
    "C = 3000000 ^ 2"
   ]
  },
  {
   "cell_type": "markdown",
   "metadata": {},
   "source": [
    "## Generator testów"
   ]
  },
  {
   "cell_type": "code",
   "execution_count": 57,
   "metadata": {},
   "outputs": [
    {
     "data": {
      "text/plain": [
       "gen_test (generic function with 1 method)"
      ]
     },
     "execution_count": 57,
     "metadata": {},
     "output_type": "execute_result"
    }
   ],
   "source": [
    "function gen_test(satellites)\n",
    "    # wektor [x; y; z; t] - (x, y, z): nasza pozycja, t: błąd zegara\n",
    "    X = vcat(Array{BigFloat}(2000 * rand(3) - 1000) .^ 3, Array{BigFloat}(100 * randn(1)) .^ 3)\n",
    "    data = Array{BigFloat, 2}(4, satellites)\n",
    "    for i = 1:satellites\n",
    "        v = Array{BigFloat}(2000 * rand(3) - 1000) .^ 3\n",
    "        data[:, i] = X + vcat(v, norm(v) / sqrt(C))\n",
    "    end\n",
    "    return data, X\n",
    "end\n"
   ]
  },
  {
   "cell_type": "markdown",
   "metadata": {},
   "source": [
    "## Dane do testów"
   ]
  },
  {
   "cell_type": "code",
   "execution_count": 59,
   "metadata": {},
   "outputs": [
    {
     "data": {
      "text/plain": [
       "4-element Array{BigFloat,1}:\n",
       "  7.358715566070800068697855743594996914497973189512780134892070396988818871246841e-59\n",
       "  1.334214475573428782011687333130458637182550064973818233336879402210911430017186e-57\n",
       " -6.720856500090033043715589178082534179837472342218860503749205943972874740758214e-58\n",
       "  6.123447033415363439829759028919642252740808134021628458971498748953063652690817e-58"
      ]
     },
     "execution_count": 59,
     "metadata": {},
     "output_type": "execute_result"
    }
   ],
   "source": [
    "data, solution₁ = gen_test(4)\n",
    "\n",
    "    #Array{BigFloat, 2}( [\n",
    "    #234 231 321 213; \n",
    "    #123 234 352 302; \n",
    "    #342 413 643 521; \n",
    "    #354 432 642 523])\n",
    "\n",
    "# data[1, :] : wektor współrzędnych x satelit\n",
    "# data[2, :] : wektor współrzędnych y satelit\n",
    "# data[3, :] : wektor współrzędnych z satelit\n",
    "# data[4, :] : wektor czasów zegara satelit\n",
    "\n",
    "# data[:, i] : dane z i-tej satelity\n",
    "\n",
    "\n",
    "#solution₁ = Array{BigFloat}([BigFloat(\"3.406027414052647875887849459335517363700416540639706155009830367636869268148760385343e+02\"),\n",
    "#                            BigFloat(\"2.245621396967134977305526534214474645554267237451765234641071107647602855199079076453e+02\"),\n",
    "#                            BigFloat(\"8.802209804658630277006504596604842085109012249373217265353711792757437615214584985008e+02\"),\n",
    "#                            BigFloat(\"9.119971653230215237445022093317229764207208762060580107951832552971171535934449105973e+02\")])\n",
    "\n",
    "# Funkcja F jak w sprawozdaniu\n",
    "function f(x::Array{BigFloat})\n",
    "    return ((-data .+ x) .^ 2)' * [1, 1, 1, -C]\n",
    "end\n",
    "\n",
    "\n",
    "JacobianArray = Array{Function, 2}(4, 4)\n",
    "for i = 1:4\n",
    "    for j = 1:3\n",
    "        JacobianArray[i, j] = function(x) return 2*x[j] - 2*data[j, i] end\n",
    "    end\n",
    "    JacobianArray[i, 4] = function(x) return 2*C*data[4, i] - 2*C*x[4] end\n",
    "end\n",
    "\n",
    "# Jakobian jak w sprawozdaniu\n",
    "function Jacobian(x::Array{BigFloat})\n",
    "    return map((f) -> f(x), JacobianArray)\n",
    "end\n",
    "\n",
    "f(solution₁)"
   ]
  },
  {
   "cell_type": "code",
   "execution_count": 35,
   "metadata": {},
   "outputs": [],
   "source": [
    "# Metoda Newtona"
   ]
  },
  {
   "cell_type": "code",
   "execution_count": 61,
   "metadata": {},
   "outputs": [
    {
     "name": "stdout",
     "output_type": "stream",
     "text": [
      "x - sol: [1.3703e+08, 2.1368e+08, 1.3003e+08, 3.7942e+04]\tf(x) : [1.2931e+22, 1.2671e+22, 1.2844e+22, 1.2790e+22]\n",
      "x - sol: [2.9641e+10, 9.5076e+10, 1.0425e+11, 1.8966e+04]\tf(x) : [1.7541e+22, 1.7541e+22, 1.7541e+22, 1.7541e+22]\n",
      "x - sol: [1.4824e+10, 4.7550e+10, 5.2141e+10, 9.4853e+03]\tf(x) : [4.3852e+21, 4.3852e+21, 4.3852e+21, 4.3852e+21]\n",
      "x - sol: [7.4159e+09, 2.3787e+10, 2.6084e+10, 4.7451e+03]\tf(x) : [1.0963e+21, 1.0963e+21, 1.0963e+21, 1.0963e+21]\n",
      "x - sol: [3.7118e+09, 1.1906e+10, 1.3055e+10, 2.3750e+03]\tf(x) : [2.7407e+20, 2.7407e+20, 2.7407e+20, 2.7407e+20]\n",
      "x - sol: [1.8597e+09, 5.9651e+09, 6.5410e+09, 1.1899e+03]\tf(x) : [6.8518e+19, 6.8518e+19, 6.8518e+19, 6.8518e+19]\n",
      "x - sol: [9.3366e+08, 2.9948e+09, 3.2839e+09, 5.9741e+02]\tf(x) : [1.7129e+19, 1.7129e+19, 1.7129e+19, 1.7129e+19]\n",
      "x - sol: [4.7066e+08, 1.5097e+09, 1.6554e+09, 3.0115e+02]\tf(x) : [4.2820e+18, 4.2820e+18, 4.2820e+18, 4.2820e+18]\n",
      "x - sol: [2.3919e+08, 7.6723e+08, 8.4130e+08, 1.5305e+02]\tf(x) : [1.0702e+18, 1.0702e+18, 1.0702e+18, 1.0702e+18]\n",
      "x - sol: [1.2352e+08, 3.9620e+08, 4.3445e+08, 7.9034e+01]\tf(x) : [2.6727e+17, 2.6727e+17, 2.6727e+17, 2.6727e+17]\n",
      "x - sol: [6.5807e+07, 2.1108e+08, 2.3146e+08, 4.2107e+01]\tf(x) : [6.6530e+16, 6.6530e+16, 6.6530e+16, 6.6530e+16]\n",
      "x - sol: [3.7198e+07, 1.1932e+08, 1.3084e+08, 2.3802e+01]\tf(x) : [1.6349e+16, 1.6349e+16, 1.6349e+16, 1.6349e+16]\n",
      "x - sol: [2.3373e+07, 7.4972e+07, 8.2210e+07, 1.4955e+01]\tf(x) : [3.8180e+15, 3.8180e+15, 3.8180e+15, 3.8180e+15]\n",
      "x - sol: [1.7315e+07, 5.5540e+07, 6.0902e+07, 1.1079e+01]\tf(x) : [7.3309e+14, 7.3309e+14, 7.3309e+14, 7.3309e+14]\n",
      "x - sol: [1.5427e+07, 4.9483e+07, 5.4260e+07, 9.8709e+00]\tf(x) : [7.1230e+13, 7.1230e+13, 7.1230e+13, 7.1230e+13]\n",
      "x - sol: [1.5199e+07, 4.8753e+07, 5.3459e+07, 9.7252e+00]\tf(x) : [1.0360e+12, 1.0360e+12, 1.0360e+12, 1.0360e+12]\n",
      "x - sol: [1.5196e+07, 4.8742e+07, 5.3447e+07, 9.7230e+00]\tf(x) : [2.3249e+08, 2.3249e+08, 2.3249e+08, 2.3249e+08]\n",
      "x - sol: [1.5196e+07, 4.8742e+07, 5.3447e+07, 9.7230e+00]\tf(x) : [1.1719e+01, 1.1719e+01, 1.1719e+01, 1.1719e+01]\n"
     ]
    },
    {
     "data": {
      "text/plain": [
       "4-element Array{BigFloat,1}:\n",
       " -1.522266397842835160172000788000100946176235598451114477311607530358628415249759e+08\n",
       " -1.64940786245134506230732438985334160437633043533606277362076063162648429234702e+08 \n",
       " -1.834819489221535999164913573502005462683889211639252442693949361099078512196823e+08\n",
       " -3.793273268434372850594129875455526886779666313268307334511111206462294629063425e+04"
      ]
     },
     "execution_count": 61,
     "metadata": {},
     "output_type": "execute_result"
    }
   ],
   "source": [
    "function prnt(a::Array{Float32})\n",
    "    @printf \"%.4e, %.4e, %.4e, %.4e\" a[1] a[2] a[3] a[4]\n",
    "end\n",
    "\n",
    "function NewtonMethod(x::Array{BigFloat}, ϵ)\n",
    "    while true \n",
    "        if norm(f(x)) < ϵ\n",
    "            return x\n",
    "        end\n",
    "        @printf \"x - sol: [\"\n",
    "        prnt(abs.(Array{Float32}(x - solution₁)))\n",
    "        @printf \"]\\tf(x) : [\"\n",
    "        prnt(abs.(Array{Float32}(f(x))))\n",
    "        @printf \"]\\n\"\n",
    "        δ = Jacobian(x) \\ f(x)\n",
    "        x = x - δ\n",
    "    end\n",
    "end\n",
    "\n",
    "NewtonMethod(Array{BigFloat}([1, 1, 1, 0]), 1e-10)"
   ]
  },
  {
   "cell_type": "code",
   "execution_count": 2,
   "metadata": {
    "collapsed": true
   },
   "outputs": [],
   "source": [
    "# Metoda algebraiczna"
   ]
  }
 ],
 "metadata": {
  "kernelspec": {
   "display_name": "Julia 0.6.0",
   "language": "julia",
   "name": "julia-0.6"
  },
  "language_info": {
   "file_extension": ".jl",
   "mimetype": "application/julia",
   "name": "julia",
   "version": "0.6.0"
  }
 },
 "nbformat": 4,
 "nbformat_minor": 2
}

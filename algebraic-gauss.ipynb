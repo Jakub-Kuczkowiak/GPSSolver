{
 "cells": [
  {
   "cell_type": "markdown",
   "metadata": {},
   "source": [
    "# Metoda algebraiczna\n",
    "### Implementacja"
   ]
  },
  {
   "cell_type": "code",
   "execution_count": 1,
   "metadata": {
    "scrolled": false
   },
   "outputs": [
    {
     "data": {
      "text/plain": [
       "solve (generic function with 2 methods)"
      ]
     },
     "execution_count": 1,
     "metadata": {},
     "output_type": "execute_result"
    }
   ],
   "source": [
    "# Metoda algebraiczna\n",
    "# x jest macierzą opisująca równania\n",
    "# C jest stałą reprezentującą szybkośc rozchodzenia sie fali (tutaj predkosc swiatla), podniesioną do kwadratu\n",
    "#C = 0.047*0.047 # stała \n",
    "C = 1\n",
    "\n",
    "setprecision(BigFloat, 256)\n",
    "\n",
    "# zwaraca trójke (ilosc_rozwiazan, pierwsze, drugie)\n",
    "function solve_quadratic(a, b, c)\n",
    "    if (c == 0)\n",
    "        # ax + b = 0, stad x = -b/a\n",
    "        return (2, 0, -b/a)\n",
    "    end\n",
    "    \n",
    "    # dalej zakladamy c != 0\n",
    "    \n",
    "    # moze byc problem przy 4ac bliskim b^2\n",
    "    δ = b*b - 4*a*c\n",
    "    \n",
    "    if (δ < 0)\n",
    "        return (0, 0, 0)\n",
    "    elseif (δ == 0)\n",
    "        return (1, -b/2a, -b/2a)\n",
    "    else\n",
    "        δ_s = sqrt(δ)\n",
    "        \n",
    "        # problem pojawia sie wtedy, gdy któreś z wyrażeń -b +- δ_s jest bliskie zeru\n",
    "        if (b < 0)\n",
    "            sign = 1\n",
    "        else\n",
    "            sign =-1\n",
    "        end\n",
    "\n",
    "        x1 = (-b + sign * δ_s) / (2.0*a)\n",
    "        x2 = c/(x1*a)\n",
    "        \n",
    "        return (2, x1, x2)\n",
    "    end\n",
    "end\n",
    "\n",
    "function vector_length(x::Array{BigFloat, 1})\n",
    "    l = length(x)\n",
    "    sum = 0\n",
    "    for i = 1:l\n",
    "        sum = sum + x[i]*x[i]\n",
    "    end\n",
    "    \n",
    "    return sqrt(sum)\n",
    "end\n",
    "\n",
    "# Wynik w postaci (x, y, z, T)\n",
    "# parametr returnAdditional ustawiony na true zwraca nam również drugie, \"fałszywe\" rozwiązanie\n",
    "function solve(x::Array{BigFloat, 2}, returnAdditional = false)\n",
    "    # create matrix\n",
    "    matrix = Array{BigFloat, 2}([\n",
    "            2*(x[2, 1] - x[1, 1]) 2*(x[2, 2] - x[1, 2]) 2*(x[2, 3] - x[1, 3]);\n",
    "            2*(x[3, 1] - x[1, 1]) 2*(x[3, 2] - x[1, 2]) 2*(x[3, 3] - x[1, 3]);\n",
    "            2*(x[4, 1] - x[1, 1]) 2*(x[4, 2] - x[1, 2]) 2*(x[4, 3] - x[1, 3])\n",
    "            ])\n",
    "    \n",
    "    s1 = x[1,1]*x[1,1] + x[1,2]*x[1,2] + x[1,3]*x[1,3]\n",
    "    s2 = x[2,1]*x[2,1] + x[2,2]*x[2,2] + x[2,3]*x[2,3]\n",
    "    s3 = x[3,1]*x[3,1] + x[3,2]*x[3,2] + x[3,3]*x[3,3]\n",
    "    s4 = x[4,1]*x[4,1] + x[4,2]*x[4,2] + x[4,3]*x[4,3]\n",
    "    \n",
    "    solMatrix = Array{BigFloat, 2}([\n",
    "            2*C*(x[2, 4] - x[1, 4]) C*(x[1,4]*x[1,4] - x[2,4]*x[2,4]) + s2 - s1;\n",
    "            2*C*(x[3, 4] - x[1, 4]) C*(x[1,4]*x[1,4] - x[3,4]*x[3,4]) + s3 - s1;\n",
    "            2*C*(x[4, 4] - x[1, 4]) C*(x[1,4]*x[1,4] - x[4,4]*x[4,4]) + s4 - s1\n",
    "            ])\n",
    "    \n",
    "    y = matrix \\ solMatrix\n",
    "    \n",
    "    r1 = x[1,1] - y[1,2] # x1 - cx indeksy dolne\n",
    "    r2 = x[1,2] - y[2,2] # y1 - cy indeksy dolne\n",
    "    r3 = x[1,3] - y[3,2] # z1 - cz indeksy dolne\n",
    "    \n",
    "    # wspolczynniki rownania kwadratowego, które otrzymujemy\n",
    "    a = y[1,1]*y[1,1] + y[2,1]*y[2,1] + y[3,1]*y[3,1] - C\n",
    "    b = 2*(-y[1,1]*r1 - y[2,1]*r2 - y[3,1]*r3 + C*x[1,4])\n",
    "    c = r1*r1 + r2*r2 + r3*r3 - C*x[1,4]*x[1,4]\n",
    "    \n",
    "    # wynik dla T\n",
    "    (solutions_number, T1, T2) = solve_quadratic(a, b, c)\n",
    "    \n",
    "    x1 = y[1, 2] + T1 * y[1, 1]\n",
    "    y1 = y[2, 2] + T1 * y[2, 1]\n",
    "    z1 = y[3, 2] + T1 * y[3, 1]\n",
    "    \n",
    "    x2 = y[1, 2] + T2 * y[1, 1]\n",
    "    y2 = y[2, 2] + T2 * y[2, 1]\n",
    "    z2 = y[3, 2] + T2 * y[3, 1]\n",
    "    \n",
    "    # Jeśli ustalono dodatkowo parametr returnAddtional, wtedy zwracamy oba rozwiązania\n",
    "    # nie uwzględniając, które z nich jest poprawne w rzeczywistości\n",
    "    if (returnAdditional)\n",
    "        return (x1, y1, z1, T1, x2, y2, z2, T2)\n",
    "    end\n",
    "    \n",
    "    # obliczamy długość wektorów obu rozwiązań\n",
    "    l1 = vector_length([x1, y1, z1])\n",
    "    l2 = vector_length([x2, y2, z2])\n",
    "    \n",
    "    # szukamy wektora najbliższego \"jedynce\", bo taki punkt leży na powierzchni ziemi.\n",
    "    if (abs(l1 - 1) < abs(l2 - 2))\n",
    "        # bierzemy l1\n",
    "        return (x1, y1, z1, T1)\n",
    "    else\n",
    "        # bierzemy l2\n",
    "        return (x2, y2, z2, T2)\n",
    "    end\n",
    "end"
   ]
  },
  {
   "cell_type": "markdown",
   "metadata": {},
   "source": [
    "# Testy"
   ]
  },
  {
   "cell_type": "markdown",
   "metadata": {},
   "source": [
    "### Test porównywany z WolframAlpha"
   ]
  },
  {
   "cell_type": "code",
   "execution_count": 2,
   "metadata": {
    "scrolled": true
   },
   "outputs": [
    {
     "name": "stdout",
     "output_type": "stream",
     "text": [
      "x = 2.239760529500195133375243477978869457278884307359817863706413422180722691069268e+02\n",
      "wx = 2.239760529500195218588487477973103523254394531250000000000000000000000000000000e+02\n",
      "y = 6.104855730339634595739853477070692526098388632382039894935164939809653230848702e+01\n",
      "wy = 6.104855730339634334313814179040491580963134765625000000000000000000000000000000e+01\n",
      "z = 4.134459221960592670108919045616358920505254803147029313016990423898669392988874e+02\n",
      "wz = 4.134459221960592572031600866466760635375976562500000000000000000000000000000000e+02\n",
      "T = 2.589054125352197925516921735901404641329853229753849621370095008489109098608017e+02\n",
      "wt = 2.589054125352197956999589223414659500122070312500000000000000000000000000000000e+02\n",
      "BigFloat(x - wx) = -8.521324399999423406597551022389018213629358657781927730893073176666423964557241e-15\n",
      "BigFloat(y - wy) = 2.614260392980302009451352538667570398949351649398096532308487023993106772487936e-15\n",
      "BigFloat(z - wz) = 9.807731817914959828512927824064702931301699042389866939298887371717495386002407e-15\n",
      "BigFloat(T - wt) = -3.148266748751325485879221708274615037862990499151089090139198330751267849821542e-15\n"
     ]
    },
    {
     "data": {
      "text/plain": [
       "-3.148266748751325485879221708274615037862990499151089090139198330751267849821542e-15"
      ]
     },
     "execution_count": 2,
     "metadata": {},
     "output_type": "execute_result"
    }
   ],
   "source": [
    "input = Array{BigFloat, 2}([\n",
    "        234 123 342 354\n",
    "        231 234 413 432\n",
    "        321 352 643 642\n",
    "        213 302 521 523\n",
    "        ])\n",
    "\n",
    "(x, y, z, T) = solve(input)\n",
    "\n",
    "#wynik z wolframi dla input2\n",
    "#www.wolframalpha.com/input/?i=(x-234)%5E2%2B(y-123)%5E2%2B(z-342)%5E2%3D(354-t)%5E2%26(x-231)%5E2%2B(y-234)%5E2%2B(z-413)%5E2%3D(432-t)%5E2%26(x-321)%5E2%2B(y-352)%5E2%2B(z-643)%5E2%3D(642-t)%5E2%26(x-213)%5E2%2B(y-302)%5E2%2B(z-521)%5E2%3D(523-t)%5E2\n",
    "wt=BigFloat(258.90541253521979255169217359014046413298532297538496213700950084891090986079279748715260300885471628639428258935548708617074093045927643023059966474908285331652876368532838597086974632959399876248459798137375107041025588345608791602437461595225006236650415890733337325157320245930304311528397848893036872242961094526054)\n",
    "wx=BigFloat(223.97605295001951333752434779788694572788843073598178637064134221807226910690887169329937636911868205554791171603978094083021244405995854257404538636105038891389729785876273152603743979230619944696330804570137409421282285131650441693455534368016310746434438468256083701709075569430631865349001181222157309587196803167973)\n",
    "wy=BigFloat(61.04855730339634595739853477070692526098388632382039894935164939809653230848396618322247969975455103201107108181604331460909801324837418755964076023938653212800110907221228712080692660378951191317797066506111207616428761160172560969277675603957978602017641354021401860035385691274352592735656124370264428333344536079944)\n",
    "wz=BigFloat(413.44592219605926701089190456163589205052548031470293130169904238986693929888513482732543545246857397115730826811642996650983873855540707558575754398506631914398327259177941450558286873330443210495681440651370796225919017712299757781417839654820616815127853022332295154978456255766232311290200083834140794629736792643132)\n",
    "\n",
    "@show x\n",
    "@show wx\n",
    "@show y\n",
    "@show wy\n",
    "@show z\n",
    "@show wz\n",
    "@show T\n",
    "@show wt\n",
    "\n",
    "@show BigFloat(x - wx)\n",
    "@show BigFloat(y - wy)\n",
    "@show BigFloat(z - wz)\n",
    "@show BigFloat(T - wt)"
   ]
  },
  {
   "cell_type": "markdown",
   "metadata": {},
   "source": [
    "## Losowo wygenerowane testy"
   ]
  },
  {
   "cell_type": "code",
   "execution_count": 4,
   "metadata": {},
   "outputs": [
    {
     "data": {
      "text/plain": [
       "test (generic function with 1 method)"
      ]
     },
     "execution_count": 4,
     "metadata": {},
     "output_type": "execute_result"
    }
   ],
   "source": [
    "function gen_test(satellites)\n",
    "    # wektor [x; y; z; t] - (x, y, z): nasza pozycja, t: błąd zegara\n",
    "    X = vcat(Array{BigFloat}(2000 * rand(3) - 1000) .^ 3, Array{BigFloat}(100 * randn(1)) .^ 3)\n",
    "    data = Array{BigFloat, 2}(4, satellites)\n",
    "    for i = 1:satellites\n",
    "        v = Array{BigFloat}(2000 * rand(3) - 1000) .^ 3\n",
    "        data[:, i] = X + vcat(v, norm(v) / C)\n",
    "    end\n",
    "    return data, X\n",
    "end\n",
    "\n",
    "function transposeMatrix(matrix)\n",
    "    tmatrix = Array{BigFloat, 2}(4, 4)\n",
    "    \n",
    "    for i = 1:4\n",
    "        for j = 1:4\n",
    "            tmatrix[i, j] = matrix[j, i]\n",
    "        end\n",
    "    end\n",
    "    \n",
    "    return tmatrix\n",
    "end\n",
    "\n",
    "function test(testsNumber)\n",
    "    maxError = 0\n",
    "    for i = 1:testsNumber\n",
    "        (X, data) = gen_test(4)\n",
    "        transposedX = transposeMatrix(X)\n",
    "        (x1, y1, z1, T1, x2, y2, z2, T2) = solve(transposedX, true)\n",
    "        \n",
    "        # testy są generowane losowo, zatem potrzebujemy dwoch rozwiazań z metody solve, aby sprawdzić dokładność wyników\n",
    "        x = x1\n",
    "        y = y1\n",
    "        z = z1\n",
    "        T = T1\n",
    "        if (abs(T1 - data[4]) > abs(T2 - data[4]))\n",
    "             x = x2\n",
    "             y = y2\n",
    "             z = z2\n",
    "             T = T2\n",
    "        end\n",
    "        \n",
    "        epsX = abs(x - data[1])\n",
    "        epsY = abs(y - data[2])\n",
    "        epsZ = abs(z - data[3])\n",
    "        epsT = abs(T - data[4])\n",
    "        \n",
    "        maxLocalError = max(epsX, epsY, epsZ, epsT)\n",
    "        if (maxLocalError > maxError)\n",
    "            maxError = maxLocalError\n",
    "        end\n",
    "    end\n",
    "    \n",
    "    return maxError\n",
    "end"
   ]
  },
  {
   "cell_type": "code",
   "execution_count": 11,
   "metadata": {},
   "outputs": [
    {
     "data": {
      "text/plain": [
       "8.448795652460897917462846907393738747436583937124256148925268525152959727843252e-57"
      ]
     },
     "execution_count": 11,
     "metadata": {},
     "output_type": "execute_result"
    }
   ],
   "source": [
    "test(10000000)"
   ]
  },
  {
   "cell_type": "code",
   "execution_count": 5,
   "metadata": {},
   "outputs": [
    {
     "data": {
      "text/plain": [
       "4.683706264871538273135380579580361381328516195490738968722945346639215112792924e-54"
      ]
     },
     "execution_count": 5,
     "metadata": {},
     "output_type": "execute_result"
    }
   ],
   "source": [
    "test(100000000)"
   ]
  }
 ],
 "metadata": {
  "kernelspec": {
   "display_name": "Julia 0.6.0",
   "language": "julia",
   "name": "julia-0.6"
  },
  "language_info": {
   "file_extension": ".jl",
   "mimetype": "application/julia",
   "name": "julia",
   "version": "0.6.0"
  }
 },
 "nbformat": 4,
 "nbformat_minor": 2
}

{
 "cells": [
  {
   "cell_type": "code",
   "execution_count": 1,
   "metadata": {},
   "outputs": [
    {
     "data": {
      "text/plain": [
       "0.47"
      ]
     },
     "execution_count": 1,
     "metadata": {},
     "output_type": "execute_result"
    }
   ],
   "source": [
    "setprecision(256)\n",
    "\n",
    "C = 0.47"
   ]
  },
  {
   "cell_type": "markdown",
   "metadata": {},
   "source": [
    "## Generator testów"
   ]
  },
  {
   "cell_type": "code",
   "execution_count": 2,
   "metadata": {},
   "outputs": [
    {
     "data": {
      "text/plain": [
       "gen_test (generic function with 1 method)"
      ]
     },
     "execution_count": 2,
     "metadata": {},
     "output_type": "execute_result"
    }
   ],
   "source": [
    "function gen_test(satellites)\n",
    "    # wektor [x; y; z; t] - (x, y, z): nasza pozycja, t: błąd zegara\n",
    "    X = vcat(normalize(Array{BigFloat}(2 * rand(3) - 1) .^ 3), Array{BigFloat}(randn(1)) .^ 3)\n",
    "    data = Array{BigFloat, 2}(4, satellites)\n",
    "    for i = 1:satellites\n",
    "        v = normalize(Array{BigFloat}(2 * rand(3) - 1) .^ 3)\n",
    "        data[:, i] = X + vcat(v, norm(v) / C)\n",
    "    end\n",
    "    return data, X\n",
    "end"
   ]
  },
  {
   "cell_type": "markdown",
   "metadata": {},
   "source": [
    "## Dane do testów"
   ]
  },
  {
   "cell_type": "code",
   "execution_count": 3,
   "metadata": {},
   "outputs": [
    {
     "data": {
      "text/plain": [
       "∂f (generic function with 1 method)"
      ]
     },
     "execution_count": 3,
     "metadata": {},
     "output_type": "execute_result"
    }
   ],
   "source": [
    "n = 8 # liczba satelit\n",
    "\n",
    "data, solution₁ = gen_test(n)\n",
    "\n",
    "# data[1, :] : wektor współrzędnych x satelitów\n",
    "# data[2, :] : wektor współrzędnych y satelitów\n",
    "# data[3, :] : wektor współrzędnych z satelitów\n",
    "# data[4, :] : wektor czasów zegara satelitów\n",
    "\n",
    "# data[:, i] : dane z i-tej satelity\n",
    "# solution₁ = poszukiwane rozwiązanie (niekoniecznie jedyne)\n",
    "\n",
    "# wyświetlanie wyników\n",
    "function prnt(x::Array{BigFloat}, fx::Array{BigFloat})\n",
    "    @printf \"x - sol: [%.4e, %.4e, %.4e, %.4e]\\tf(x): [%.4e, %.4e, %.4e, %.4e]\\n\" x[1] x[2] x[3] x[4] fx[1] fx[2] fx[3] fx[4]\n",
    "end\n",
    "\n",
    "# Funkcja F jak w sprawozdaniu\n",
    "# rozważamy dane tylko z 4 pierwszych satelitów\n",
    "function f4(x::Array{BigFloat})\n",
    "    return ((-data[:, 1:4] .+ x) .^ 2)' * [1, 1, 1, -C*C]\n",
    "end\n",
    "\n",
    "\n",
    "# Funkcja F jak w sprawozdaniu\n",
    "# bierze pod uwagę dane ze wszystkich satelitów\n",
    "function f(x::Array{BigFloat})\n",
    "    return ((-data .+ x) .^ 2)' * [1, 1, 1, -C*C]\n",
    "end\n",
    "\n",
    "# Jakobian jak w sprawozdaniu\n",
    "# dla 4 pierwszych satelitów\n",
    "∂f4arr = Array{Function, 2}(4, 4)\n",
    "for i = 1:4\n",
    "    for j = 1:3\n",
    "        ∂f4arr[i, j] = function(x) return 2*x[j] - 2*data[j, i] end\n",
    "    end\n",
    "    ∂f4arr[i, 4] = function(x) return 2*C*C*data[4, i] - 2*C*C*x[4] end\n",
    "end\n",
    "\n",
    "function ∂f4(x::Array{BigFloat})\n",
    "    return map((f) -> f(x), ∂f4arr)\n",
    "end\n",
    "\n",
    "\n",
    "# Jakobian jak w sprawozdaniu\n",
    "# dla wszystkich satelitów\n",
    "∂farr = Array{Function, 2}(n, 4)\n",
    "for i = 1:n\n",
    "    for j = 1:3\n",
    "        ∂farr[i, j] = function(x) return 2*x[j] - 2*data[j, i] end\n",
    "    end\n",
    "    ∂farr[i, 4] = function(x) return 2*C*C*data[4, i] - 2*C*C*x[4] end\n",
    "end\n",
    "\n",
    "function ∂f(x::Array{BigFloat})\n",
    "    return map((f) -> f(x), ∂farr)\n",
    "end"
   ]
  },
  {
   "cell_type": "markdown",
   "metadata": {},
   "source": [
    "# Metoda Newtona"
   ]
  },
  {
   "cell_type": "code",
   "execution_count": 4,
   "metadata": {},
   "outputs": [
    {
     "name": "stdout",
     "output_type": "stream",
     "text": [
      "x - sol: [8.3663e-78, 3.0227e-77, 3.4545e-77, 1.8602e+00]\tf(x): [9.8420e-01, 9.8420e-01, 9.8420e-01, 9.8420e-01]\n",
      "x - sol: [1.2684e-77, 8.6362e-78, 8.6362e-78, 6.4692e+00]\tf(x): [1.5326e+01, 1.5326e+01, 1.5326e+01, 1.5326e+01]\n",
      "x - sol: [1.0512e-76, 1.0363e-76, 8.6362e-78, 2.4341e+00]\tf(x): [3.5968e+00, 3.5968e+00, 3.5968e+00, 3.5968e+00]\n",
      "x - sol: [1.4978e-77, 5.1817e-77, 2.5909e-77, 6.4939e-01]\tf(x): [7.0358e-01, 7.0358e-01, 7.0358e-01, 7.0358e-01]\n",
      "x - sol: [1.8892e-78, 3.8863e-77, 8.6362e-78, 7.5926e-02]\tf(x): [7.2644e-02, 7.2644e-02, 7.2644e-02, 7.2644e-02]\n",
      "x - sol: [6.2072e-78, 4.3181e-77, 1.7272e-77, 1.3081e-03]\tf(x): [1.2300e-03, 1.2300e-03, 1.2300e-03, 1.2300e-03]\n",
      "x - sol: [4.0482e-79, 4.3181e-77, 8.6362e-78, 4.0184e-07]\tf(x): [3.7773e-07, 3.7773e-07, 3.7773e-07, 3.7773e-07]\n",
      "x - sol: [3.5084e-78, 3.8863e-77, 8.6362e-78, 3.7897e-14]\tf(x): [3.5670e-14, 3.5670e-14, 3.5670e-14, 3.5670e-14]\n",
      "x - sol: [7.4217e-78, 3.4545e-77, 8.6362e-78, 4.9617e-17]\tf(x): [3.1809e-28, 3.1809e-28, 3.1809e-28, 3.1809e-28]\n",
      "x - sol: [7.8265e-78, 4.3181e-77, 8.6362e-78, 4.9617e-17]\tf(x): [2.5295e-56, 2.5295e-56, 2.5295e-56, 2.5295e-56]\n",
      "x - sol: [8.2313e-78, 5.1817e-77, 8.6362e-78, 4.9617e-17]\tf(x): [1.7272e-77, 1.7272e-77, 0.0000e+00, 1.7272e-77]\n"
     ]
    },
    {
     "data": {
      "text/plain": [
       "8-element Array{BigFloat,1}:\n",
       " 1.727233711018888925077270372560079914223200072887256277004740694033718360632485e-77\n",
       " 1.727233711018888925077270372560079914223200072887256277004740694033718360632485e-77\n",
       " 0.000000000000000000000000000000000000000000000000000000000000000000000000000000    \n",
       " 1.727233711018888925077270372560079914223200072887256277004740694033718360632485e-77\n",
       " 3.454467422037777850154540745120159828446400145774512554009481388067436721264971e-77\n",
       " 8.636168555094444625386351862800399571116000364436281385023703470168591803162427e-77\n",
       " 8.636168555094444625386351862800399571116000364436281385023703470168591803162427e-78\n",
       " 3.454467422037777850154540745120159828446400145774512554009481388067436721264971e-77"
      ]
     },
     "execution_count": 4,
     "metadata": {},
     "output_type": "execute_result"
    }
   ],
   "source": [
    "function NewtonMethod(f, ∂f, ϵ; x=Array{BigFloat}([0, 0, 0, 0]), max_iter=1000, log=true, solution=solution₁)\n",
    "    i = 0\n",
    "    while norm(f(x)) > ϵ && i < max_iter\n",
    "        δ = ∂f(x) \\ f(x)\n",
    "        x = x - δ\n",
    "        i += 1\n",
    "        if log prnt(abs.(x - solution), abs.(f(x))) end\n",
    "    end\n",
    "    return x\n",
    "end\n",
    "\n",
    "newton_4_result = NewtonMethod(f4, ∂f4, 1e-70)\n",
    "f(newton_4_result)"
   ]
  },
  {
   "cell_type": "markdown",
   "metadata": {},
   "source": [
    "### Test metody Newtona"
   ]
  },
  {
   "cell_type": "code",
   "execution_count": 5,
   "metadata": {},
   "outputs": [
    {
     "name": "stdout",
     "output_type": "stream",
     "text": [
      "\n",
      "solved: 0 / 100000"
     ]
    },
    {
     "ename": "LoadError",
     "evalue": "\u001b[91mUndefRefError: access to undefined reference\u001b[39m",
     "output_type": "error",
     "traceback": [
      "\u001b[91mUndefRefError: access to undefined reference\u001b[39m",
      "",
      "Stacktrace:",
      " [1] \u001b[1msum\u001b[22m\u001b[22m\u001b[1m(\u001b[22m\u001b[22m::Array{BigFloat,1}\u001b[1m)\u001b[22m\u001b[22m at \u001b[1m.\\mpfr.jl:624\u001b[22m\u001b[22m",
      " [2] \u001b[1mmean\u001b[22m\u001b[22m\u001b[1m(\u001b[22m\u001b[22m::Array{BigFloat,1}\u001b[1m)\u001b[22m\u001b[22m at \u001b[1m.\\statistics.jl:36\u001b[22m\u001b[22m",
      " [3] \u001b[1minclude_string\u001b[22m\u001b[22m\u001b[1m(\u001b[22m\u001b[22m::String, ::String\u001b[1m)\u001b[22m\u001b[22m at \u001b[1m.\\loading.jl:515\u001b[22m\u001b[22m"
     ]
    }
   ],
   "source": [
    "solved_count = 0\n",
    "test_count = 100000 # zmienić na true, żeby uruchomić testy\n",
    "TEST = false\n",
    "\n",
    "error = Array{BigFloat}(test_count)\n",
    "max_error = BigFloat(0)\n",
    "min_error = BigFloat(Inf)\n",
    "\n",
    "if TEST for p = 1:test_count\n",
    "    if p%(test_count/100)==0\n",
    "        @printf \"%d \" (100*p/test_count)\n",
    "    end\n",
    "    temp_data, temp_solution₁ = gen_test(4)\n",
    "    \n",
    "    function temp_f(x::Array{BigFloat})\n",
    "        return ((-temp_data .+ x) .^ 2)' * [1, 1, 1, -C*C]\n",
    "    end\n",
    "    \n",
    "    temp_∂f4arr = Array{Function, 2}(4, 4)\n",
    "    for i = 1:4\n",
    "        for j = 1:3\n",
    "            temp_∂f4arr[i, j] = function(x) return 2*x[j] - 2*temp_data[j, i] end\n",
    "        end\n",
    "        temp_∂f4arr[i, 4] = function(x) return 2*C*C*temp_data[4, i] - 2*C*C*x[4] end\n",
    "    end\n",
    "    \n",
    "    function temp_∂f(x::Array{BigFloat})\n",
    "        return map((f) -> f(x), temp_∂f4arr)\n",
    "    end\n",
    "    \n",
    "    temp_result = NewtonMethod(temp_f, temp_∂f, 1e-70; log=false)\n",
    "        \n",
    "    error[p] = norm(temp_solution₁[1:3] - temp_result[1:3])\n",
    "    if error[p] > max_error max_error = error[p] end\n",
    "    if error[p] < min_error min_error = error[p] end\n",
    "    if(error[p] < 1e-70) solved_count += 1 end\n",
    "end\n",
    "    @printf \"\\nsolved: %d / %d\" solved_count test_count\n",
    "    @printf \"\\nerror: max: %.4e avg: %.4e min: %.4e\" max_error mean(error) min_error\n",
    "end"
   ]
  },
  {
   "cell_type": "markdown",
   "metadata": {},
   "source": [
    "## Metoda najmniejszych kwadratów na pomocą metody Newtona dla wielu satelit"
   ]
  },
  {
   "cell_type": "code",
   "execution_count": 11,
   "metadata": {},
   "outputs": [
    {
     "name": "stdout",
     "output_type": "stream",
     "text": [
      "norm(S(newton_least²_result)) = 4.251649535958333306506034500366618328302946483196454361241690618740310568684449e-76\n",
      "norm(f(newton_least²_result)) = 2.720916450683171049841241776236413290322069713657881253875382833283803963536402\n",
      "norm(f(newton_4_result)) = 1.039932404545617559908005063501300374894691794516581500560097001859466064289471e-76\n"
     ]
    },
    {
     "data": {
      "text/plain": [
       "1.039932404545617559908005063501300374894691794516581500560097001859466064289471e-76"
      ]
     },
     "execution_count": 11,
     "metadata": {},
     "output_type": "execute_result"
    }
   ],
   "source": [
    "function S(x::Array{BigFloat})\n",
    "    return [sum(4 * f(x) .* (x[i] - data[i, :])) for i = 1:4] .* [1, 1, 1, -C*C]\n",
    "end\n",
    "\n",
    "∂Sarr = Array{Function, 2}(4, 4)\n",
    "for i = 1:4\n",
    "    for j = 1:4\n",
    "        ∂Sarr[i, j] = (i == 4 || j == 4) ? \n",
    "            function(x) return - C * C * 8 * sum((x[j] - data[j, :]) .* (x[i] - data[i, :])) end :\n",
    "            function(x) return 8 * sum((x[j] - data[j, :]) .* (x[i] - data[i, :])) end\n",
    "\n",
    "    end\n",
    "end\n",
    "\n",
    "for i = 1:3\n",
    "    ∂Sarr[i, i] = function(x) return 4 * sum(f(x) + (2 * (data[i, :] - x[i]) .* (data[i, :] - x[i]))) end\n",
    "end\n",
    "\n",
    "∂Sarr[4, 4] = function(x) return - 4 * C * C * sum(f(x) - (2 * C * C * (data[4, :] - x[4]) .* (data[4, :] - x[4]))) end\n",
    "\n",
    "# Jakobian jak w sprawozdaniu\n",
    "function ∂S(x::Array{BigFloat})\n",
    "    return map((f) -> f(x), ∂Sarr)\n",
    "end\n",
    "\n",
    "newton_least²_result = NewtonMethod(S, ∂S, 1e-70; log=false)\n",
    "@show norm(S(newton_least²_result))\n",
    "@show norm(f(newton_least²_result))\n",
    "@show norm(f(newton_4_result))"
   ]
  },
  {
   "cell_type": "markdown",
   "metadata": {},
   "source": [
    "### Test metody najmniejszych kwadratów"
   ]
  },
  {
   "cell_type": "code",
   "execution_count": 7,
   "metadata": {},
   "outputs": [
    {
     "name": "stdout",
     "output_type": "stream",
     "text": [
      "\n",
      "solved: 0 / 1000"
     ]
    },
    {
     "ename": "LoadError",
     "evalue": "\u001b[91mUndefRefError: access to undefined reference\u001b[39m",
     "output_type": "error",
     "traceback": [
      "\u001b[91mUndefRefError: access to undefined reference\u001b[39m",
      "",
      "Stacktrace:",
      " [1] \u001b[1msum\u001b[22m\u001b[22m\u001b[1m(\u001b[22m\u001b[22m::Array{BigFloat,1}\u001b[1m)\u001b[22m\u001b[22m at \u001b[1m.\\mpfr.jl:624\u001b[22m\u001b[22m",
      " [2] \u001b[1mmean\u001b[22m\u001b[22m\u001b[1m(\u001b[22m\u001b[22m::Array{BigFloat,1}\u001b[1m)\u001b[22m\u001b[22m at \u001b[1m.\\statistics.jl:36\u001b[22m\u001b[22m",
      " [3] \u001b[1minclude_string\u001b[22m\u001b[22m\u001b[1m(\u001b[22m\u001b[22m::String, ::String\u001b[1m)\u001b[22m\u001b[22m at \u001b[1m.\\loading.jl:515\u001b[22m\u001b[22m"
     ]
    }
   ],
   "source": [
    "solved_count = 0\n",
    "test_count = 1000\n",
    "TEST = false # zmienić na true, żeby uruchomić testy\n",
    "\n",
    "error = Array{BigFloat}(test_count)\n",
    "max_error = BigFloat(0)\n",
    "min_error = BigFloat(Inf)\n",
    "\n",
    "if TEST for p = 1:test_count\n",
    "    if p%(test_count/100)==0\n",
    "        @printf \"%d \" (100*p/test_count)\n",
    "    end\n",
    "    n = 10\n",
    "    temp_data, temp_solution₁ = gen_test(n)\n",
    "    \n",
    "    function temp_f(x::Array{BigFloat})\n",
    "        return ((-temp_data .+ x) .^ 2)' * [1, 1, 1, -C*C]\n",
    "    end\n",
    "    \n",
    "    temp_∂farr = Array{Function, 2}(n, 4)\n",
    "    for i = 1:n\n",
    "        for j = 1:3\n",
    "            temp_∂farr[i, j] = function(x) return 2*x[j] - 2*temp_data[j, i] end\n",
    "        end\n",
    "        temp_∂farr[i, 4] = function(x) return 2*C*C*temp_data[4, i] - 2*C*C*x[4] end\n",
    "    end\n",
    "    \n",
    "    function temp_∂f(x::Array{BigFloat})\n",
    "        return map((f) -> f(x), temp_∂farr)\n",
    "    end\n",
    "        \n",
    "    function temp_S(x::Array{BigFloat})\n",
    "        return [sum(4 * temp_f(x) .* (x[i] - temp_data[i, :])) for i = 1:4] .* [1, 1, 1, -C*C]\n",
    "    end\n",
    "\n",
    "    temp_∂Sarr = Array{Function, 2}(4, 4)\n",
    "    for i = 1:4\n",
    "        for j = 1:4\n",
    "            temp_∂Sarr[i, j] = (i == 4 || j == 4) ? \n",
    "                function(x) return - C * C * 8 * sum((x[j] - temp_data[j, :]) .* (x[i] - temp_data[i, :])) end :\n",
    "                function(x) return 8 * sum((x[j] - temp_data[j, :]) .* (x[i] - temp_data[i, :])) end\n",
    "\n",
    "        end\n",
    "    end\n",
    "\n",
    "    for i = 1:3\n",
    "        temp_∂Sarr[i, i] = function(x) return 4 * sum(temp_f(x) + (2 * (temp_data[i, :] - x[i]) .* (temp_data[i, :] - x[i]))) end\n",
    "    end\n",
    "    \n",
    "    function temp_∂S(x::Array{BigFloat})\n",
    "        return map((f) -> f(x), temp_∂Sarr)\n",
    "    end\n",
    "        \n",
    "    temp_result = NewtonMethod(temp_S, temp_∂S, 1e-70; max_iter=50, log=false)\n",
    "    \n",
    "    error[p] = norm(temp_solution₁[1:3] - temp_result[1:3])\n",
    "    if error[p] > max_error max_error = error[p] end\n",
    "    if error[p] < min_error min_error = error[p] end\n",
    "    if(error[p] < 1e-70) solved_count += 1 end\n",
    "end \n",
    "    @printf \"\\nsolved: %d / %d\" solved_count test_count\n",
    "    @printf \"\\nerror: max: %.4e avg: %.4e min: %.4e\" max_error mean(error) min_error\n",
    "end"
   ]
  },
  {
   "cell_type": "markdown",
   "metadata": {},
   "source": [
    "## Ważona metoda Newtona"
   ]
  },
  {
   "cell_type": "code",
   "execution_count": 8,
   "metadata": {},
   "outputs": [
    {
     "name": "stdout",
     "output_type": "stream",
     "text": [
      "x - sol: [1.5653e-77, 9.9316e-77, 1.7272e-77, 1.8602e+00]\tf(x): [9.8420e-01, 9.8420e-01, 9.8420e-01, 9.8420e-01]\n",
      "x - sol: [5.3976e-78, 5.6135e-77, 8.6362e-78, 6.4692e+00]\tf(x): [1.5326e+01, 1.5326e+01, 1.5326e+01, 1.5326e+01]\n",
      "x - sol: [1.5005e-76, 2.8802e-75, 2.6772e-76, 2.4341e+00]\tf(x): [3.5968e+00, 3.5968e+00, 3.5968e+00, 3.5968e+00]\n",
      "x - sol: [3.5624e-77, 5.6135e-77, 3.4545e-77, 6.4939e-01]\tf(x): [7.0358e-01, 7.0358e-01, 7.0358e-01, 7.0358e-01]\n",
      "x - sol: [2.1590e-78, 4.3181e-78, 8.6362e-78, 7.5926e-02]\tf(x): [7.2644e-02, 7.2644e-02, 7.2644e-02, 7.2644e-02]\n",
      "x - sol: [3.6434e-78, 1.2954e-77, 0.0000e+00, 1.3081e-03]\tf(x): [1.2300e-03, 1.2300e-03, 1.2300e-03, 1.2300e-03]\n",
      "x - sol: [9.1759e-78, 1.7272e-77, 0.0000e+00, 4.0184e-07]\tf(x): [3.7773e-07, 3.7773e-07, 3.7773e-07, 3.7773e-07]\n",
      "x - sol: [5.3976e-78, 1.2954e-77, 0.0000e+00, 3.7897e-14]\tf(x): [3.5670e-14, 3.5670e-14, 3.5670e-14, 3.5670e-14]\n",
      "x - sol: [2.4289e-78, 2.5909e-77, 0.0000e+00, 4.9617e-17]\tf(x): [3.1809e-28, 3.1809e-28, 3.1809e-28, 3.1809e-28]\n",
      "x - sol: [6.0723e-78, 1.7272e-77, 0.0000e+00, 4.9617e-17]\tf(x): [2.5295e-56, 2.5295e-56, 2.5295e-56, 2.5295e-56]\n",
      "x - sol: [2.2940e-78, 1.2954e-77, 0.0000e+00, 4.9617e-17]\tf(x): [5.1817e-77, 4.3181e-77, 3.4545e-77, 4.3181e-77]\n",
      "norm(f(newton_all_result)) = 1.029118255513150129808937272749479811493807359761588150742437921715647832621081e-76\n"
     ]
    },
    {
     "data": {
      "text/plain": [
       "1.029118255513150129808937272749479811493807359761588150742437921715647832621081e-76"
      ]
     },
     "execution_count": 8,
     "metadata": {},
     "output_type": "execute_result"
    }
   ],
   "source": [
    "function NewtonMethod(f, ∂f, ϵ; x=Array{BigFloat}([0, 0, 0, 0]), max_iter=1000, log=true)\n",
    "    i = 0\n",
    "    while norm(f(x)) > ϵ && i < max_iter\n",
    "        δ = (∂f(x)' * ∂f(x)) \\ ∂f(x)' * f(x)\n",
    "        x = x - δ\n",
    "        i += 1\n",
    "        if log prnt(abs.(x - solution₁), abs.(f(x))) end\n",
    "    end\n",
    "    return x\n",
    "end\n",
    "\n",
    "newton_all_result = NewtonMethod(f, ∂f, 1e-70; log=true)\n",
    "\n",
    "@show norm(f(newton_all_result))"
   ]
  },
  {
   "cell_type": "markdown",
   "metadata": {},
   "source": [
    "### Test ważonej metody Newtona"
   ]
  },
  {
   "cell_type": "code",
   "execution_count": 9,
   "metadata": {},
   "outputs": [
    {
     "name": "stdout",
     "output_type": "stream",
     "text": [
      "\n",
      "solved: 0 / 100000"
     ]
    },
    {
     "ename": "LoadError",
     "evalue": "\u001b[91mUndefRefError: access to undefined reference\u001b[39m",
     "output_type": "error",
     "traceback": [
      "\u001b[91mUndefRefError: access to undefined reference\u001b[39m",
      "",
      "Stacktrace:",
      " [1] \u001b[1msum\u001b[22m\u001b[22m\u001b[1m(\u001b[22m\u001b[22m::Array{BigFloat,1}\u001b[1m)\u001b[22m\u001b[22m at \u001b[1m.\\mpfr.jl:624\u001b[22m\u001b[22m",
      " [2] \u001b[1mmean\u001b[22m\u001b[22m\u001b[1m(\u001b[22m\u001b[22m::Array{BigFloat,1}\u001b[1m)\u001b[22m\u001b[22m at \u001b[1m.\\statistics.jl:36\u001b[22m\u001b[22m",
      " [3] \u001b[1minclude_string\u001b[22m\u001b[22m\u001b[1m(\u001b[22m\u001b[22m::String, ::String\u001b[1m)\u001b[22m\u001b[22m at \u001b[1m.\\loading.jl:515\u001b[22m\u001b[22m"
     ]
    }
   ],
   "source": [
    "solved_count = 0\n",
    "test_count = 100000\n",
    "TEST = false # zmienić na true, żeby uruchomić testy\n",
    "\n",
    "error = Array{BigFloat}(test_count)\n",
    "max_error = BigFloat(0)\n",
    "min_error = BigFloat(Inf)\n",
    "\n",
    "if TEST for p = 1:test_count\n",
    "    if p%(test_count/100)==0\n",
    "        @printf \"%d \" (100*p/test_count)\n",
    "    end\n",
    "    n = 10\n",
    "    temp_data, temp_solution₁ = gen_test(n)\n",
    "    \n",
    "    function temp_f(x::Array{BigFloat})\n",
    "        return ((-temp_data .+ x) .^ 2)' * [1, 1, 1, -C*C]\n",
    "    end\n",
    "    \n",
    "    temp_∂farr = Array{Function, 2}(n, 4)\n",
    "    for i = 1:n\n",
    "        for j = 1:3\n",
    "            temp_∂farr[i, j] = function(x) return 2*x[j] - 2*temp_data[j, i] end\n",
    "        end\n",
    "        temp_∂farr[i, 4] = function(x) return 2*C*C*temp_data[4, i] - 2*C*C*x[4] end\n",
    "    end\n",
    "    \n",
    "    function temp_∂f(x::Array{BigFloat})\n",
    "        return map((f) -> f(x), temp_∂farr)\n",
    "    end\n",
    "    \n",
    "    temp_result = NewtonMethod(temp_f, temp_∂f, 1e-70; log=false)\n",
    "    \n",
    "    error[p] = norm(temp_solution₁[1:3] - temp_result[1:3])\n",
    "    if error[p] > max_error max_error = error[p] end\n",
    "    if error[p] < min_error min_error = error[p] end\n",
    "    if(error[p] < 1e-70) solved_count += 1 end\n",
    "end\n",
    "    @printf \"\\nsolved: %d / %d\" solved_count test_count\n",
    "    @printf \"\\nerror: max: %.4e avg: %.4e min: %.4e\" max_error mean(error) min_error\n",
    "end"
   ]
  },
  {
   "cell_type": "code",
   "execution_count": null,
   "metadata": {},
   "outputs": [],
   "source": []
  }
 ],
 "metadata": {
  "kernelspec": {
   "display_name": "Julia 0.6.0",
   "language": "julia",
   "name": "julia-0.6"
  },
  "language_info": {
   "file_extension": ".jl",
   "mimetype": "application/julia",
   "name": "julia",
   "version": "0.6.0"
  }
 },
 "nbformat": 4,
 "nbformat_minor": 2
}

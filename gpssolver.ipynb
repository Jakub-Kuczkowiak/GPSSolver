{
 "cells": [
  {
   "cell_type": "code",
   "execution_count": 56,
   "metadata": {},
   "outputs": [
    {
     "data": {
      "text/plain": [
       "9000000000000"
      ]
     },
     "execution_count": 56,
     "metadata": {},
     "output_type": "execute_result"
    }
   ],
   "source": [
    "setprecision(256)\n",
    "\n",
    "using Plots\n",
    "\n",
    "plotly()\n",
    "\n",
    "C = 3000000 ^ 2"
   ]
  },
  {
   "cell_type": "markdown",
   "metadata": {},
   "source": [
    "## Generator testów"
   ]
  },
  {
   "cell_type": "code",
   "execution_count": 69,
   "metadata": {},
   "outputs": [
    {
     "data": {
      "text/plain": [
       "gen_test (generic function with 1 method)"
      ]
     },
     "execution_count": 69,
     "metadata": {},
     "output_type": "execute_result"
    }
   ],
   "source": [
    "function gen_test(satellites)\n",
    "    # wektor [x; y; z; t] - (x, y, z): nasza pozycja, t: błąd zegara\n",
    "    X = vcat(Array{BigFloat}(2000 * rand(3) - 1000) .^ 3, Array{BigFloat}(100 * randn(1)) .^ 3)\n",
    "    data = Array{BigFloat, 2}(4, satellites)\n",
    "    for i = 1:satellites\n",
    "        v = Array{BigFloat}(2000 * rand(3) - 1000) .^ 3\n",
    "        data[:, i] = X + vcat(v, norm(v) / sqrt(C))\n",
    "    end\n",
    "    return data, X\n",
    "end"
   ]
  },
  {
   "cell_type": "markdown",
   "metadata": {},
   "source": [
    "## Dane do testów"
   ]
  },
  {
   "cell_type": "code",
   "execution_count": 71,
   "metadata": {},
   "outputs": [
    {
     "data": {
      "text/plain": [
       "Jacobian (generic function with 1 method)"
      ]
     },
     "execution_count": 71,
     "metadata": {},
     "output_type": "execute_result"
    }
   ],
   "source": [
    "data, solution₁ = gen_test(4)\n",
    "\n",
    "# data[1, :] : wektor współrzędnych x satelit\n",
    "# data[2, :] : wektor współrzędnych y satelit\n",
    "# data[3, :] : wektor współrzędnych z satelit\n",
    "# data[4, :] : wektor czasów zegara satelit\n",
    "\n",
    "# data[:, i] : dane z i-tej satelity\n",
    "# solution₁ = poszukiwane rozwiązanie (niekoniecznie jedyne)\n",
    "\n",
    "# Funkcja F jak w sprawozdaniu\n",
    "function f(x::Array{BigFloat})\n",
    "    return ((-data .+ x) .^ 2)' * [1, 1, 1, -C*C]\n",
    "end\n",
    "\n",
    "\n",
    "JacobianArray = Array{Function, 2}(4, 4)\n",
    "for i = 1:4\n",
    "    for j = 1:3\n",
    "        JacobianArray[i, j] = function(x) return 2*x[j] - 2*data[j, i] end\n",
    "    end\n",
    "    JacobianArray[i, 4] = function(x) return 2*C*data[4, i] - 2*C*x[4] end\n",
    "end\n",
    "\n",
    "# Jakobian jak w sprawozdaniu\n",
    "function Jacobian(x::Array{BigFloat})\n",
    "    return map((f) -> f(x), JacobianArray)\n",
    "end\n"
   ]
  },
  {
   "cell_type": "markdown",
   "metadata": {},
   "source": [
    "# Metoda Newtona"
   ]
  },
  {
   "cell_type": "code",
   "execution_count": 73,
   "metadata": {},
   "outputs": [
    {
     "name": "stdout",
     "output_type": "stream",
     "text": [
      "x - sol: [5.6510e+08, 6.4568e+08, 4.2134e+08, 7.2620e+05]\tf(x) : [4.7484e+24, 4.7475e+24, 4.7466e+24, 4.7488e+24]\n",
      "x - sol: [8.5280e+11, 6.5808e+11, 1.4915e+11, 3.6308e+05]\tf(x) : [4.1281e+21, 4.1281e+21, 4.1281e+21, 4.1281e+21]\n",
      "x - sol: [4.1261e+11, 3.1840e+11, 7.2164e+10, 1.7567e+05]\tf(x) : [1.0310e+21, 1.0310e+21, 1.0310e+21, 1.0310e+21]\n",
      "x - sol: [1.9298e+11, 1.4891e+11, 3.3751e+10, 8.2161e+04]\tf(x) : [2.5666e+20, 2.5666e+20, 2.5666e+20, 2.5666e+20]\n",
      "x - sol: [8.4073e+10, 6.4876e+10, 1.4704e+10, 3.5794e+04]\tf(x) : [6.3103e+19, 6.3103e+19, 6.3103e+19, 6.3103e+19]\n",
      "x - sol: [3.1394e+10, 2.4226e+10, 5.4906e+09, 1.3366e+04]\tf(x) : [1.4765e+19, 1.4765e+19, 1.4765e+19, 1.4765e+19]\n",
      "x - sol: [8.2278e+09, 6.3491e+09, 1.4390e+09, 3.5030e+03]\tf(x) : [2.8554e+18, 2.8554e+18, 2.8554e+18, 2.8554e+18]\n",
      "x - sol: [9.2161e+08, 7.1118e+08, 1.6118e+08, 3.9238e+02]\tf(x) : [2.8401e+17, 2.8401e+17, 2.8401e+17, 2.8401e+17]\n",
      "x - sol: [1.4434e+07, 1.1139e+07, 2.5245e+06, 6.1455e+00]\tf(x) : [4.3786e+15, 4.3786e+15, 4.3786e+15, 4.3786e+15]\n",
      "x - sol: [3.6535e+03, 2.8193e+03, 6.3898e+02, 1.5555e-03]\tf(x) : [1.1080e+12, 1.1080e+12, 1.1080e+12, 1.1080e+12]\n",
      "x - sol: [2.3418e-04, 1.8071e-04, 4.0957e-05, 9.9702e-11]\tf(x) : [7.1019e+04, 7.1019e+04, 7.1019e+04, 7.1019e+04]\n",
      "x - sol: [9.6211e-19, 7.4243e-19, 1.6827e-19, 4.0962e-25]\tf(x) : [2.9178e-10, 2.9178e-10, 2.9178e-10, 2.9178e-10]\n",
      "x - sol: [0.0000e+00, 0.0000e+00, 0.0000e+00, 0.0000e+00]\tf(x) : [4.9250e-39, 4.9250e-39, 4.9250e-39, 4.9250e-39]\n"
     ]
    },
    {
     "data": {
      "text/plain": [
       "4-element Array{BigFloat,1}:\n",
       "  5.651007276220236858539610356056223000222243280261724079072072614115300516734455e+08\n",
       " -6.456770172691195434356496647304739620844652297474075423137731921118388593907262e+08\n",
       " -4.213413900025584967266641945146085487787859334287050115381247983442186351829521e+08\n",
       "  7.262042950408124809561456889923951382427112566437666322507959298067151606348724e+05"
      ]
     },
     "execution_count": 73,
     "metadata": {},
     "output_type": "execute_result"
    }
   ],
   "source": [
    "function prnt(a::Array{Float32})\n",
    "    @printf \"%.4e, %.4e, %.4e, %.4e\" a[1] a[2] a[3] a[4]\n",
    "end\n",
    "\n",
    "function NewtonMethod(x::Array{BigFloat}, ϵ)\n",
    "    while true \n",
    "        if norm(f(x)) < ϵ\n",
    "            return x\n",
    "        end\n",
    "        @printf \"x - sol: [\"\n",
    "        prnt(abs.(Array{Float32}(x - solution₁)))\n",
    "        @printf \"]\\tf(x) : [\"\n",
    "        prnt(abs.(Array{Float32}(f(x))))\n",
    "        @printf \"]\\n\"\n",
    "        δ = Jacobian(x) \\ f(x)\n",
    "        x = x - δ\n",
    "    end\n",
    "end\n",
    "\n",
    "NewtonMethod(Array{BigFloat}([1, 1, 1, 0]), 1e-50)"
   ]
  },
  {
   "cell_type": "code",
   "execution_count": 2,
   "metadata": {
    "collapsed": true
   },
   "outputs": [],
   "source": [
    "# Metoda algebraiczna"
   ]
  }
 ],
 "metadata": {
  "kernelspec": {
   "display_name": "Julia 0.6.0",
   "language": "julia",
   "name": "julia-0.6"
  },
  "language_info": {
   "file_extension": ".jl",
   "mimetype": "application/julia",
   "name": "julia",
   "version": "0.6.0"
  }
 },
 "nbformat": 4,
 "nbformat_minor": 2
}

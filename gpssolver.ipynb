{
 "cells": [
  {
   "cell_type": "code",
   "execution_count": 74,
   "metadata": {},
   "outputs": [
    {
     "data": {
      "text/plain": [
       "3000000"
      ]
     },
     "execution_count": 74,
     "metadata": {},
     "output_type": "execute_result"
    }
   ],
   "source": [
    "setprecision(256)\n",
    "\n",
    "using Plots\n",
    "\n",
    "plotly()\n",
    "\n",
    "C = 3000000"
   ]
  },
  {
   "cell_type": "markdown",
   "metadata": {},
   "source": [
    "## Generator testów"
   ]
  },
  {
   "cell_type": "code",
   "execution_count": 75,
   "metadata": {},
   "outputs": [
    {
     "data": {
      "text/plain": [
       "gen_test (generic function with 1 method)"
      ]
     },
     "execution_count": 75,
     "metadata": {},
     "output_type": "execute_result"
    }
   ],
   "source": [
    "function gen_test(satellites)\n",
    "    # wektor [x; y; z; t] - (x, y, z): nasza pozycja, t: błąd zegara\n",
    "    X = vcat(Array{BigFloat}(2000 * rand(3) - 1000) .^ 3, Array{BigFloat}(100 * randn(1)) .^ 3)\n",
    "    data = Array{BigFloat, 2}(4, satellites)\n",
    "    for i = 1:satellites\n",
    "        v = Array{BigFloat}(2000 * rand(3) - 1000) .^ 3\n",
    "        data[:, i] = X + vcat(v, norm(v) / C)\n",
    "    end\n",
    "    return data, X\n",
    "end"
   ]
  },
  {
   "cell_type": "markdown",
   "metadata": {},
   "source": [
    "## Dane do testów"
   ]
  },
  {
   "cell_type": "code",
   "execution_count": 76,
   "metadata": {},
   "outputs": [
    {
     "data": {
      "text/plain": [
       "Jacobian (generic function with 1 method)"
      ]
     },
     "execution_count": 76,
     "metadata": {},
     "output_type": "execute_result"
    }
   ],
   "source": [
    "data, solution₁ = gen_test(4)\n",
    "\n",
    "# data[1, :] : wektor współrzędnych x satelit\n",
    "# data[2, :] : wektor współrzędnych y satelit\n",
    "# data[3, :] : wektor współrzędnych z satelit\n",
    "# data[4, :] : wektor czasów zegara satelit\n",
    "\n",
    "# data[:, i] : dane z i-tej satelity\n",
    "# solution₁ = poszukiwane rozwiązanie (niekoniecznie jedyne)\n",
    "\n",
    "# Funkcja F jak w sprawozdaniu\n",
    "function f(x::Array{BigFloat})\n",
    "    return ((-data .+ x) .^ 2)' * [1, 1, 1, -C*C]\n",
    "end\n",
    "\n",
    "\n",
    "JacobianArray = Array{Function, 2}(4, 4)\n",
    "for i = 1:4\n",
    "    for j = 1:3\n",
    "        JacobianArray[i, j] = function(x) return 2*x[j] - 2*data[j, i] end\n",
    "    end\n",
    "    JacobianArray[i, 4] = function(x) return 2*C*C*data[4, i] - 2*C*C*x[4] end\n",
    "end\n",
    "\n",
    "# Jakobian jak w sprawozdaniu\n",
    "function Jacobian(x::Array{BigFloat})\n",
    "    return map((f) -> f(x), JacobianArray)\n",
    "end\n"
   ]
  },
  {
   "cell_type": "markdown",
   "metadata": {},
   "source": [
    "# Metoda Newtona"
   ]
  },
  {
   "cell_type": "code",
   "execution_count": 77,
   "metadata": {},
   "outputs": [
    {
     "name": "stdout",
     "output_type": "stream",
     "text": [
      "x - sol: [3.9074e+05, 2.2120e+06, 5.9191e+07, 7.4325e+04]\tf(x) : [5.0073e+22, 5.0004e+22, 5.0128e+22, 5.0147e+22]\n",
      "x - sol: [2.9216e+10, 2.1603e+10, 2.8957e+10, 3.7048e+04]\tf(x) : [1.0351e+22, 1.0351e+22, 1.0351e+22, 1.0351e+22]\n",
      "x - sol: [1.4497e+10, 1.0719e+10, 1.4368e+10, 1.8383e+04]\tf(x) : [2.5876e+21, 2.5876e+21, 2.5876e+21, 2.5876e+21]\n",
      "x - sol: [7.1378e+09, 5.2779e+09, 7.0747e+09, 9.0514e+03]\tf(x) : [6.4674e+20, 6.4674e+20, 6.4674e+20, 6.4674e+20]\n",
      "x - sol: [3.4601e+09, 2.5585e+09, 3.4295e+09, 4.3878e+03]\tf(x) : [1.6154e+20, 1.6154e+20, 1.6154e+20, 1.6154e+20]\n",
      "x - sol: [1.6247e+09, 1.2014e+09, 1.6104e+09, 2.0603e+03]\tf(x) : [4.0234e+19, 4.0234e+19, 4.0234e+19, 4.0234e+19]\n",
      "x - sol: [7.1379e+08, 5.2779e+08, 7.0747e+08, 9.0514e+02]\tf(x) : [9.9104e+18, 9.9104e+18, 9.9104e+18, 9.9104e+18]\n",
      "x - sol: [2.7154e+08, 2.0078e+08, 2.6914e+08, 3.4433e+02]\tf(x) : [2.3359e+18, 2.3359e+18, 2.3359e+18, 2.3359e+18]\n",
      "x - sol: [7.4341e+07, 5.4970e+07, 7.3684e+07, 9.4271e+01]\tf(x) : [4.6443e+17, 4.6443e+17, 4.6443e+17, 4.6443e+17]\n",
      "x - sol: [9.2508e+06, 6.8403e+06, 9.1690e+06, 1.1731e+01]\tf(x) : [5.0601e+16, 5.0601e+16, 5.0601e+16, 5.0601e+16]\n",
      "x - sol: [1.8315e+05, 1.3543e+05, 1.8153e+05, 2.3225e-01]\tf(x) : [9.8199e+14, 9.8199e+14, 9.8199e+14, 9.8199e+14]\n",
      "x - sol: [7.4693e+01, 5.5230e+01, 7.4033e+01, 9.4717e-05]\tf(x) : [4.0031e+11, 4.0031e+11, 4.0031e+11, 4.0031e+11]\n",
      "x - sol: [1.2433e-05, 9.1930e-06, 1.2323e-05, 1.5766e-11]\tf(x) : [6.6632e+04, 6.6632e+04, 6.6632e+04, 6.6632e+04]\n",
      "x - sol: [3.4445e-19, 2.5470e-19, 3.4141e-19, 4.3680e-25]\tf(x) : [1.8461e-09, 1.8461e-09, 1.8461e-09, 1.8461e-09]\n",
      "x - sol: [0.0000e+00, 0.0000e+00, 0.0000e+00, 0.0000e+00]\tf(x) : [1.4170e-36, 1.4170e-36, 1.4170e-36, 1.4170e-36]\n"
     ]
    },
    {
     "data": {
      "text/plain": [
       "4-element Array{BigFloat,1}:\n",
       " -3.907348079175006011381193324311854523263299965623735637006602033426978734971857e+05\n",
       "  2.211961307955054052807633967881075144161299690343898478400668109103433920874838e+06\n",
       "  5.919129435661394036744584354848745327951217642935148871532112208992216146104164e+07\n",
       "  7.432511224252961855774193332908852244133311163616420947980583675726161285627736e+04"
      ]
     },
     "execution_count": 77,
     "metadata": {},
     "output_type": "execute_result"
    }
   ],
   "source": [
    "function prnt(a::Array{Float32})\n",
    "    @printf \"%.4e, %.4e, %.4e, %.4e\" a[1] a[2] a[3] a[4]\n",
    "end\n",
    "\n",
    "function NewtonMethod(x::Array{BigFloat}, ϵ)\n",
    "    while true \n",
    "        if norm(f(x)) < ϵ\n",
    "            return x\n",
    "        end\n",
    "        @printf \"x - sol: [\"\n",
    "        prnt(abs.(Array{Float32}(x - solution₁)))\n",
    "        @printf \"]\\tf(x) : [\"\n",
    "        prnt(abs.(Array{Float32}(f(x))))\n",
    "        @printf \"]\\n\"\n",
    "        δ = Jacobian(x) \\ f(x)\n",
    "        x = x - δ\n",
    "    end\n",
    "end\n",
    "\n",
    "NewtonMethod(Array{BigFloat}([1, 1, 1, 0]), 1e-50)"
   ]
  },
  {
   "cell_type": "code",
   "execution_count": 2,
   "metadata": {
    "collapsed": true
   },
   "outputs": [],
   "source": [
    "# Metoda algebraiczna"
   ]
  }
 ],
 "metadata": {
  "kernelspec": {
   "display_name": "Julia 0.6.0",
   "language": "julia",
   "name": "julia-0.6"
  },
  "language_info": {
   "file_extension": ".jl",
   "mimetype": "application/julia",
   "name": "julia",
   "version": "0.6.0"
  }
 },
 "nbformat": 4,
 "nbformat_minor": 2
}

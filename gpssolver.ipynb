{
 "cells": [
  {
   "cell_type": "code",
   "execution_count": 1,
   "metadata": {},
   "outputs": [
    {
     "data": {
      "text/plain": [
       "0.47"
      ]
     },
     "execution_count": 1,
     "metadata": {},
     "output_type": "execute_result"
    }
   ],
   "source": [
    "setprecision(256)\n",
    "\n",
    "C = 0.47"
   ]
  },
  {
   "cell_type": "markdown",
   "metadata": {},
   "source": [
    "## Generator testów"
   ]
  },
  {
   "cell_type": "code",
   "execution_count": 2,
   "metadata": {},
   "outputs": [
    {
     "data": {
      "text/plain": [
       "gen_test (generic function with 1 method)"
      ]
     },
     "execution_count": 2,
     "metadata": {},
     "output_type": "execute_result"
    }
   ],
   "source": [
    "function gen_test(satellites)\n",
    "    # wektor [x; y; z; t] - (x, y, z): nasza pozycja, t: błąd zegara\n",
    "    X = vcat(normalize(Array{BigFloat}(2 * rand(3) - 1) .^ 3), Array{BigFloat}(randn(1)) .^ 3)\n",
    "    data = Array{BigFloat, 2}(4, satellites)\n",
    "    for i = 1:satellites\n",
    "        v = normalize(Array{BigFloat}(2 * rand(3) - 1) .^ 3)\n",
    "        data[:, i] = X + vcat(v, norm(v) / C)\n",
    "    end\n",
    "    return data, X\n",
    "end"
   ]
  },
  {
   "cell_type": "markdown",
   "metadata": {},
   "source": [
    "## Dane do testów"
   ]
  },
  {
   "cell_type": "code",
   "execution_count": 3,
   "metadata": {},
   "outputs": [
    {
     "data": {
      "text/plain": [
       "∂f (generic function with 1 method)"
      ]
     },
     "execution_count": 3,
     "metadata": {},
     "output_type": "execute_result"
    }
   ],
   "source": [
    "n = 8 # liczba satelit\n",
    "\n",
    "data, solution₁ = gen_test(n)\n",
    "\n",
    "# data[1, :] : wektor współrzędnych x satelitów\n",
    "# data[2, :] : wektor współrzędnych y satelitów\n",
    "# data[3, :] : wektor współrzędnych z satelitów\n",
    "# data[4, :] : wektor czasów zegara satelitów\n",
    "\n",
    "# data[:, i] : dane z i-tej satelity\n",
    "# solution₁ = poszukiwane rozwiązanie (niekoniecznie jedyne)\n",
    "\n",
    "# wyświetlanie wyników\n",
    "function prnt(x::Array{BigFloat}, fx::Array{BigFloat})\n",
    "    @printf \"x - sol: [%.4e, %.4e, %.4e, %.4e]\\tf(x): [%.4e, %.4e, %.4e, %.4e]\\n\" x[1] x[2] x[3] x[4] fx[1] fx[2] fx[3] fx[4]\n",
    "end\n",
    "\n",
    "# Funkcja F jak w sprawozdaniu\n",
    "# rozważamy dane tylko z 4 pierwszych satelitów\n",
    "function f4(x::Array{BigFloat})\n",
    "    return ((-data[:, 1:4] .+ x) .^ 2)' * [1, 1, 1, -C*C]\n",
    "end\n",
    "\n",
    "\n",
    "# Funkcja F jak w sprawozdaniu\n",
    "# bierze pod uwagę dane ze wszystkich satelitów\n",
    "function f(x::Array{BigFloat})\n",
    "    return ((-data .+ x) .^ 2)' * [1, 1, 1, -C*C]\n",
    "end\n",
    "\n",
    "# Jakobian jak w sprawozdaniu\n",
    "# dla 4 pierwszych satelitów\n",
    "∂f4arr = Array{Function, 2}(4, 4)\n",
    "for i = 1:4\n",
    "    for j = 1:3\n",
    "        ∂f4arr[i, j] = function(x) return 2*x[j] - 2*data[j, i] end\n",
    "    end\n",
    "    ∂f4arr[i, 4] = function(x) return 2*C*C*data[4, i] - 2*C*C*x[4] end\n",
    "end\n",
    "\n",
    "function ∂f4(x::Array{BigFloat})\n",
    "    return map((f) -> f(x), ∂f4arr)\n",
    "end\n",
    "\n",
    "\n",
    "# Jakobian jak w sprawozdaniu\n",
    "# dla wszystkich satelitów\n",
    "∂farr = Array{Function, 2}(n, 4)\n",
    "for i = 1:n\n",
    "    for j = 1:3\n",
    "        ∂farr[i, j] = function(x) return 2*x[j] - 2*data[j, i] end\n",
    "    end\n",
    "    ∂farr[i, 4] = function(x) return 2*C*C*data[4, i] - 2*C*C*x[4] end\n",
    "end\n",
    "\n",
    "function ∂f(x::Array{BigFloat})\n",
    "    return map((f) -> f(x), ∂farr)\n",
    "end"
   ]
  },
  {
   "cell_type": "markdown",
   "metadata": {},
   "source": [
    "# Metoda Newtona"
   ]
  },
  {
   "cell_type": "code",
   "execution_count": 4,
   "metadata": {},
   "outputs": [
    {
     "name": "stdout",
     "output_type": "stream",
     "text": [
      "x - sol: [1.0536e-75, 2.1156e-75, 2.3549e-75, 1.0641e+00]\tf(x): [7.5011e-01, 7.5011e-01, 7.5011e-01, 7.5011e-01]\n",
      "x - sol: [4.4044e-76, 8.7714e-76, 9.7145e-76, 5.3228e-01]\tf(x): [5.6293e-01, 5.6293e-01, 5.6293e-01, 5.6293e-01]\n",
      "x - sol: [3.4545e-76, 6.6546e-76, 7.5100e-76, 5.3257e-02]\tf(x): [5.0688e-02, 5.0688e-02, 5.0688e-02, 5.0688e-02]\n",
      "x - sol: [3.3681e-76, 6.5267e-76, 7.2820e-76, 6.5026e-04]\tf(x): [6.1134e-04, 6.1134e-04, 6.1134e-04, 6.1134e-04]\n",
      "x - sol: [3.3681e-76, 6.5638e-76, 7.2289e-76, 9.9336e-08]\tf(x): [9.3376e-08, 9.3376e-08, 9.3376e-08, 9.3376e-08]\n",
      "x - sol: [3.2817e-76, 6.5969e-76, 7.3433e-76, 2.2693e-15]\tf(x): [2.1798e-15, 2.1798e-15, 2.1798e-15, 2.1798e-15]\n",
      "x - sol: [3.3681e-76, 6.4960e-76, 7.3421e-76, 4.9617e-17]\tf(x): [1.1878e-30, 1.1878e-30, 1.1878e-30, 1.1878e-30]\n",
      "x - sol: [3.3681e-76, 6.5301e-76, 7.2855e-76, 4.9617e-17]\tf(x): [3.5274e-61, 3.5274e-61, 3.5274e-61, 3.5274e-61]\n",
      "x - sol: [3.3681e-76, 6.5301e-76, 7.2855e-76, 4.9617e-17]\tf(x): [0.0000e+00, 0.0000e+00, 0.0000e+00, 0.0000e+00]\n"
     ]
    },
    {
     "data": {
      "text/plain": [
       "8-element Array{BigFloat,1}:\n",
       "  0.000000000000000000000000000000000000000000000000000000000000000000000000000000    \n",
       "  0.000000000000000000000000000000000000000000000000000000000000000000000000000000    \n",
       "  0.000000000000000000000000000000000000000000000000000000000000000000000000000000    \n",
       "  0.000000000000000000000000000000000000000000000000000000000000000000000000000000    \n",
       " -3.169473859719661177516791133647746642599572133748115268303699173551873191760611e-75\n",
       " -2.806754780405694503250564355410129860612700118441791450132703627804792336027789e-75\n",
       " -3.627190793139666742662267782376167819868720153063238181709955457470808557328219e-76\n",
       " -1.295425283264166693807952779420059935667400054665442207753555520525288770474364e-75"
      ]
     },
     "execution_count": 4,
     "metadata": {},
     "output_type": "execute_result"
    }
   ],
   "source": [
    "function NewtonMethod(f, ∂f, ϵ; x=Array{BigFloat}([0, 0, 0, 0]), max_iter=1000, log=true, solution=solution₁)\n",
    "    i = 0\n",
    "    while norm(f(x)) > ϵ && i < max_iter\n",
    "        δ = ∂f(x) \\ f(x)\n",
    "        x = x - δ\n",
    "        i += 1\n",
    "        if log prnt(abs.(x - solution), abs.(f(x))) end\n",
    "    end\n",
    "    return x\n",
    "end\n",
    "\n",
    "newton_4_result = NewtonMethod(f4, ∂f4, 1e-70)\n",
    "f(newton_4_result)"
   ]
  },
  {
   "cell_type": "markdown",
   "metadata": {},
   "source": [
    "### Test metody Newtona"
   ]
  },
  {
   "cell_type": "code",
   "execution_count": 5,
   "metadata": {},
   "outputs": [],
   "source": [
    "solved_count = 0\n",
    "test_count = 100000 # zmienić na true, żeby uruchomić testy\n",
    "TEST = false\n",
    "\n",
    "error = Array{BigFloat}(test_count)\n",
    "max_error = BigFloat(0)\n",
    "min_error = BigFloat(Inf)\n",
    "\n",
    "if TEST for p = 1:test_count\n",
    "    if p%(test_count/100)==0\n",
    "        @printf \"%d \" (100*p/test_count)\n",
    "    end\n",
    "    temp_data, temp_solution₁ = gen_test(4)\n",
    "    \n",
    "    function temp_f(x::Array{BigFloat})\n",
    "        return ((-temp_data .+ x) .^ 2)' * [1, 1, 1, -C*C]\n",
    "    end\n",
    "    \n",
    "    temp_∂f4arr = Array{Function, 2}(4, 4)\n",
    "    for i = 1:4\n",
    "        for j = 1:3\n",
    "            temp_∂f4arr[i, j] = function(x) return 2*x[j] - 2*temp_data[j, i] end\n",
    "        end\n",
    "        temp_∂f4arr[i, 4] = function(x) return 2*C*C*temp_data[4, i] - 2*C*C*x[4] end\n",
    "    end\n",
    "    \n",
    "    function temp_∂f(x::Array{BigFloat})\n",
    "        return map((f) -> f(x), temp_∂f4arr)\n",
    "    end\n",
    "    \n",
    "    temp_result = NewtonMethod(temp_f, temp_∂f, 1e-70; log=false)\n",
    "        \n",
    "    error[p] = norm(temp_solution₁[1:3] - temp_result[1:3])\n",
    "    if error[p] > max_error max_error = error[p] end\n",
    "    if error[p] < min_error min_error = error[p] end\n",
    "    if(error[p] < 1e-70) solved_count += 1 end\n",
    "end\n",
    "    @printf \"\\nsolved: %d / %d\" solved_count test_count\n",
    "    @printf \"\\nerror: max: %.4e avg: %.4e min: %.4e\" max_error mean(error) min_error\n",
    "end"
   ]
  },
  {
   "cell_type": "markdown",
   "metadata": {},
   "source": [
    "## Metoda najmniejszych kwadratów na pomocą metody Newtona dla wielu satelit"
   ]
  },
  {
   "cell_type": "code",
   "execution_count": 6,
   "metadata": {},
   "outputs": [
    {
     "name": "stdout",
     "output_type": "stream",
     "text": [
      "norm(S(newton_least²_result)) = 1.988866284167075839642488910555150658933063463257060098095884198837199920642411e-76\n",
      "norm(f(newton_least²_result)) = 2.664960148682303695666963013709342690885078794738579028927619892118313916298344\n",
      "norm(f(newton_4_result)) = 4.442198638038925313954280564105548872468950965446466599834293161709425995087373e-75\n"
     ]
    },
    {
     "data": {
      "text/plain": [
       "4.442198638038925313954280564105548872468950965446466599834293161709425995087373e-75"
      ]
     },
     "execution_count": 6,
     "metadata": {},
     "output_type": "execute_result"
    }
   ],
   "source": [
    "function S(x::Array{BigFloat})\n",
    "    return [sum(4 * f(x) .* (x[i] - data[i, :])) for i = 1:4] .* [1, 1, 1, -C*C]\n",
    "end\n",
    "\n",
    "∂Sarr = Array{Function, 2}(4, 4)\n",
    "for i = 1:4\n",
    "    for j = 1:4\n",
    "        ∂Sarr[i, j] = (i == 4 || j == 4) ? \n",
    "            function(x) return - C * C * 8 * sum((x[j] - data[j, :]) .* (x[i] - data[i, :])) end :\n",
    "            function(x) return 8 * sum((x[j] - data[j, :]) .* (x[i] - data[i, :])) end\n",
    "\n",
    "    end\n",
    "end\n",
    "\n",
    "for i = 1:3\n",
    "    ∂Sarr[i, i] = function(x) return 4 * sum(f(x) + (2 * (data[i, :] - x[i]) .* (data[i, :] - x[i]))) end\n",
    "end\n",
    "\n",
    "∂Sarr[4, 4] = function(x) return - 4 * C * C * sum(f(x) - (2 * C * C * (data[4, :] - x[4]) .* (data[4, :] - x[4]))) end\n",
    "\n",
    "# Jakobian jak w sprawozdaniu\n",
    "function ∂S(x::Array{BigFloat})\n",
    "    return map((f) -> f(x), ∂Sarr)\n",
    "end\n",
    "\n",
    "newton_least²_result = NewtonMethod(S, ∂S, 1e-70; log=false)\n",
    "@show norm(S(newton_least²_result))\n",
    "@show norm(f(newton_least²_result))\n",
    "@show norm(f(newton_4_result))"
   ]
  },
  {
   "cell_type": "markdown",
   "metadata": {},
   "source": [
    "### Test metody najmniejszych kwadratów"
   ]
  },
  {
   "cell_type": "code",
   "execution_count": 7,
   "metadata": {},
   "outputs": [],
   "source": [
    "solved_count = 0\n",
    "test_count = 1000\n",
    "TEST = false # zmienić na true, żeby uruchomić testy\n",
    "\n",
    "error = Array{BigFloat}(test_count)\n",
    "max_error = BigFloat(0)\n",
    "min_error = BigFloat(Inf)\n",
    "\n",
    "if TEST for p = 1:test_count\n",
    "    if p%(test_count/100)==0\n",
    "        @printf \"%d \" (100*p/test_count)\n",
    "    end\n",
    "    n = 10\n",
    "    temp_data, temp_solution₁ = gen_test(n)\n",
    "    \n",
    "    function temp_f(x::Array{BigFloat})\n",
    "        return ((-temp_data .+ x) .^ 2)' * [1, 1, 1, -C*C]\n",
    "    end\n",
    "    \n",
    "    temp_∂farr = Array{Function, 2}(n, 4)\n",
    "    for i = 1:n\n",
    "        for j = 1:3\n",
    "            temp_∂farr[i, j] = function(x) return 2*x[j] - 2*temp_data[j, i] end\n",
    "        end\n",
    "        temp_∂farr[i, 4] = function(x) return 2*C*C*temp_data[4, i] - 2*C*C*x[4] end\n",
    "    end\n",
    "    \n",
    "    function temp_∂f(x::Array{BigFloat})\n",
    "        return map((f) -> f(x), temp_∂farr)\n",
    "    end\n",
    "        \n",
    "    function temp_S(x::Array{BigFloat})\n",
    "        return [sum(4 * temp_f(x) .* (x[i] - temp_data[i, :])) for i = 1:4] .* [1, 1, 1, -C*C]\n",
    "    end\n",
    "\n",
    "    temp_∂Sarr = Array{Function, 2}(4, 4)\n",
    "    for i = 1:4\n",
    "        for j = 1:4\n",
    "            temp_∂Sarr[i, j] = (i == 4 || j == 4) ? \n",
    "                function(x) return - C * C * 8 * sum((x[j] - temp_data[j, :]) .* (x[i] - temp_data[i, :])) end :\n",
    "                function(x) return 8 * sum((x[j] - temp_data[j, :]) .* (x[i] - temp_data[i, :])) end\n",
    "\n",
    "        end\n",
    "    end\n",
    "\n",
    "    for i = 1:3\n",
    "        temp_∂Sarr[i, i] = function(x) return 4 * sum(temp_f(x) + (2 * (temp_data[i, :] - x[i]) .* (temp_data[i, :] - x[i]))) end\n",
    "    end\n",
    "    \n",
    "    function temp_∂S(x::Array{BigFloat})\n",
    "        return map((f) -> f(x), temp_∂Sarr)\n",
    "    end\n",
    "        \n",
    "    temp_result = NewtonMethod(temp_S, temp_∂S, 1e-70; max_iter=50, log=false)\n",
    "    \n",
    "    error[p] = norm(temp_solution₁[1:3] - temp_result[1:3])\n",
    "    if error[p] > max_error max_error = error[p] end\n",
    "    if error[p] < min_error min_error = error[p] end\n",
    "    if(error[p] < 1e-70) solved_count += 1 end\n",
    "end \n",
    "    @printf \"\\nsolved: %d / %d\" solved_count test_count\n",
    "    @printf \"\\nerror: max: %.4e avg: %.4e min: %.4e\" max_error mean(error) min_error\n",
    "end"
   ]
  },
  {
   "cell_type": "markdown",
   "metadata": {},
   "source": [
    "## Ważona metoda Newtona"
   ]
  },
  {
   "cell_type": "code",
   "execution_count": 8,
   "metadata": {},
   "outputs": [
    {
     "name": "stdout",
     "output_type": "stream",
     "text": [
      "x - sol: [1.0363e-76, 1.8521e-77, 8.4000e-78, 1.0641e+00]\tf(x): [7.5011e-01, 7.5011e-01, 7.5011e-01, 7.5011e-01]\n",
      "x - sol: [0.0000e+00, 1.0424e-77, 3.2048e-78, 5.3228e-01]\tf(x): [5.6293e-01, 5.6293e-01, 5.6293e-01, 5.6293e-01]\n",
      "x - sol: [0.0000e+00, 6.4097e-79, 2.4627e-78, 5.3257e-02]\tf(x): [5.0688e-02, 5.0688e-02, 5.0688e-02, 5.0688e-02]\n",
      "x - sol: [0.0000e+00, 3.4747e-78, 3.7109e-79, 6.5026e-04]\tf(x): [6.1134e-04, 6.1134e-04, 6.1134e-04, 6.1134e-04]\n",
      "x - sol: [0.0000e+00, 1.6058e-77, 2.9265e-78, 9.9336e-08]\tf(x): [9.3376e-08, 9.3376e-08, 9.3376e-08, 9.3376e-08]\n",
      "x - sol: [0.0000e+00, 4.2506e-78, 3.2048e-79, 2.2693e-15]\tf(x): [2.1798e-15, 2.1798e-15, 2.1798e-15, 2.1798e-15]\n",
      "x - sol: [0.0000e+00, 8.1301e-78, 2.0916e-78, 4.9617e-17]\tf(x): [1.1878e-30, 1.1878e-30, 1.1878e-30, 1.1878e-30]\n",
      "x - sol: [0.0000e+00, 1.5957e-77, 6.7554e-78, 4.9617e-17]\tf(x): [3.5274e-61, 3.5274e-61, 3.5274e-61, 3.5274e-61]\n",
      "x - sol: [0.0000e+00, 1.0121e-77, 3.4831e-78, 4.9617e-17]\tf(x): [1.7272e-77, 5.1817e-77, 3.4545e-77, 1.7272e-77]\n",
      "norm(f(newton_all_result)) = 1.025488197445114017048944943296517152124076048981411605478810520672431921843273e-76\n"
     ]
    },
    {
     "data": {
      "text/plain": [
       "1.025488197445114017048944943296517152124076048981411605478810520672431921843273e-76"
      ]
     },
     "execution_count": 8,
     "metadata": {},
     "output_type": "execute_result"
    }
   ],
   "source": [
    "function NewtonMethod(f, ∂f, ϵ; x=Array{BigFloat}([0, 0, 0, 0]), max_iter=1000, log=true)\n",
    "    i = 0\n",
    "    while norm(f(x)) > ϵ && i < max_iter\n",
    "        δ = (∂f(x)' * ∂f(x)) \\ ∂f(x)' * f(x)\n",
    "        x = x - δ\n",
    "        i += 1\n",
    "        if log prnt(abs.(x - solution₁), abs.(f(x))) end\n",
    "    end\n",
    "    return x\n",
    "end\n",
    "\n",
    "newton_all_result = NewtonMethod(f, ∂f, 1e-70; log=true)\n",
    "\n",
    "@show norm(f(newton_all_result))"
   ]
  },
  {
   "cell_type": "markdown",
   "metadata": {},
   "source": [
    "### Test ważonej metody Newtona"
   ]
  },
  {
   "cell_type": "code",
   "execution_count": 9,
   "metadata": {},
   "outputs": [],
   "source": [
    "solved_count = 0\n",
    "test_count = 100000\n",
    "TEST = false # zmienić na true, żeby uruchomić testy\n",
    "\n",
    "error = Array{BigFloat}(test_count)\n",
    "max_error = BigFloat(0)\n",
    "min_error = BigFloat(Inf)\n",
    "\n",
    "if TEST for p = 1:test_count\n",
    "    if p%(test_count/100)==0\n",
    "        @printf \"%d \" (100*p/test_count)\n",
    "    end\n",
    "    n = 10\n",
    "    temp_data, temp_solution₁ = gen_test(n)\n",
    "    \n",
    "    function temp_f(x::Array{BigFloat})\n",
    "        return ((-temp_data .+ x) .^ 2)' * [1, 1, 1, -C*C]\n",
    "    end\n",
    "    \n",
    "    temp_∂farr = Array{Function, 2}(n, 4)\n",
    "    for i = 1:n\n",
    "        for j = 1:3\n",
    "            temp_∂farr[i, j] = function(x) return 2*x[j] - 2*temp_data[j, i] end\n",
    "        end\n",
    "        temp_∂farr[i, 4] = function(x) return 2*C*C*temp_data[4, i] - 2*C*C*x[4] end\n",
    "    end\n",
    "    \n",
    "    function temp_∂f(x::Array{BigFloat})\n",
    "        return map((f) -> f(x), temp_∂farr)\n",
    "    end\n",
    "    \n",
    "    temp_result = NewtonMethod(temp_f, temp_∂f, 1e-70; log=false)\n",
    "    \n",
    "    error[p] = norm(temp_solution₁[1:3] - temp_result[1:3])\n",
    "    if error[p] > max_error max_error = error[p] end\n",
    "    if error[p] < min_error min_error = error[p] end\n",
    "    if(error[p] < 1e-70) solved_count += 1 end\n",
    "end\n",
    "    @printf \"\\nsolved: %d / %d\" solved_count test_count\n",
    "    @printf \"\\nerror: max: %.4e avg: %.4e min: %.4e\" max_error mean(error) min_error\n",
    "end"
   ]
  },
  {
   "cell_type": "markdown",
   "metadata": {},
   "source": [
    "# Metoda algebraiczna\n",
    "### Implementacja"
   ]
  },
  {
   "cell_type": "code",
   "execution_count": 10,
   "metadata": {},
   "outputs": [
    {
     "data": {
      "text/plain": [
       "solve (generic function with 2 methods)"
      ]
     },
     "execution_count": 10,
     "metadata": {},
     "output_type": "execute_result"
    }
   ],
   "source": [
    "# Metoda algebraiczna\n",
    "# x jest macierzą opisująca równania\n",
    "# C jest stałą reprezentującą szybkośc rozchodzenia sie fali (tutaj predkosc swiatla), podniesioną do kwadratu\n",
    "#C = 0.047*0.047 # stała \n",
    "C = 1\n",
    "\n",
    "setprecision(BigFloat, 256)\n",
    "\n",
    "# zwaraca trójke (ilosc_rozwiazan, pierwsze, drugie)\n",
    "function solve_quadratic(a, b, c)\n",
    "    if (c == 0)\n",
    "        # ax + b = 0, stad x = -b/a\n",
    "        return (2, 0, -b/a)\n",
    "    end\n",
    "    \n",
    "    # dalej zakladamy c != 0\n",
    "    \n",
    "    # moze byc problem przy 4ac bliskim b^2\n",
    "    δ = b*b - 4*a*c\n",
    "    \n",
    "    if (δ < 0)\n",
    "        return (0, 0, 0)\n",
    "    elseif (δ == 0)\n",
    "        return (1, -b/2a, -b/2a)\n",
    "    else\n",
    "        δ_s = sqrt(δ)\n",
    "        \n",
    "        # problem pojawia sie wtedy, gdy któreś z wyrażeń -b +- δ_s jest bliskie zeru\n",
    "        if (b < 0)\n",
    "            sign = 1\n",
    "        else\n",
    "            sign =-1\n",
    "        end\n",
    "\n",
    "        x1 = (-b + sign * δ_s) / (2.0*a)\n",
    "        x2 = c/(x1*a)\n",
    "        \n",
    "        return (2, x1, x2)\n",
    "    end\n",
    "end\n",
    "\n",
    "function vector_length(x::Array{BigFloat, 1})\n",
    "    l = length(x)\n",
    "    sum = 0\n",
    "    for i = 1:l\n",
    "        sum = sum + x[i]*x[i]\n",
    "    end\n",
    "    \n",
    "    return sqrt(sum)\n",
    "end\n",
    "\n",
    "# Wynik w postaci (x, y, z, T)\n",
    "# parametr returnAdditional ustawiony na true zwraca nam również drugie, \"fałszywe\" rozwiązanie\n",
    "function solve(x::Array{BigFloat, 2}, returnAdditional = false)\n",
    "    # create matrix\n",
    "    matrix = Array{BigFloat, 2}([\n",
    "            2*(x[2, 1] - x[1, 1]) 2*(x[2, 2] - x[1, 2]) 2*(x[2, 3] - x[1, 3]);\n",
    "            2*(x[3, 1] - x[1, 1]) 2*(x[3, 2] - x[1, 2]) 2*(x[3, 3] - x[1, 3]);\n",
    "            2*(x[4, 1] - x[1, 1]) 2*(x[4, 2] - x[1, 2]) 2*(x[4, 3] - x[1, 3])\n",
    "            ])\n",
    "    \n",
    "    s1 = x[1,1]*x[1,1] + x[1,2]*x[1,2] + x[1,3]*x[1,3]\n",
    "    s2 = x[2,1]*x[2,1] + x[2,2]*x[2,2] + x[2,3]*x[2,3]\n",
    "    s3 = x[3,1]*x[3,1] + x[3,2]*x[3,2] + x[3,3]*x[3,3]\n",
    "    s4 = x[4,1]*x[4,1] + x[4,2]*x[4,2] + x[4,3]*x[4,3]\n",
    "    \n",
    "    solMatrix = Array{BigFloat, 2}([\n",
    "            2*C*(x[2, 4] - x[1, 4]) C*(x[1,4]*x[1,4] - x[2,4]*x[2,4]) + s2 - s1;\n",
    "            2*C*(x[3, 4] - x[1, 4]) C*(x[1,4]*x[1,4] - x[3,4]*x[3,4]) + s3 - s1;\n",
    "            2*C*(x[4, 4] - x[1, 4]) C*(x[1,4]*x[1,4] - x[4,4]*x[4,4]) + s4 - s1\n",
    "            ])\n",
    "    \n",
    "    y = matrix \\ solMatrix\n",
    "    \n",
    "    r1 = x[1,1] - y[1,2] # x1 - cx indeksy dolne\n",
    "    r2 = x[1,2] - y[2,2] # y1 - cy indeksy dolne\n",
    "    r3 = x[1,3] - y[3,2] # z1 - cz indeksy dolne\n",
    "    \n",
    "    # wspolczynniki rownania kwadratowego, które otrzymujemy\n",
    "    a = y[1,1]*y[1,1] + y[2,1]*y[2,1] + y[3,1]*y[3,1] - C\n",
    "    b = 2*(-y[1,1]*r1 - y[2,1]*r2 - y[3,1]*r3 + C*x[1,4])\n",
    "    c = r1*r1 + r2*r2 + r3*r3 - C*x[1,4]*x[1,4]\n",
    "    \n",
    "    # wynik dla T\n",
    "    (solutions_number, T1, T2) = solve_quadratic(a, b, c)\n",
    "    \n",
    "    x1 = y[1, 2] + T1 * y[1, 1]\n",
    "    y1 = y[2, 2] + T1 * y[2, 1]\n",
    "    z1 = y[3, 2] + T1 * y[3, 1]\n",
    "    \n",
    "    x2 = y[1, 2] + T2 * y[1, 1]\n",
    "    y2 = y[2, 2] + T2 * y[2, 1]\n",
    "    z2 = y[3, 2] + T2 * y[3, 1]\n",
    "    \n",
    "    # Jeśli ustalono dodatkowo parametr returnAddtional, wtedy zwracamy oba rozwiązania\n",
    "    # nie uwzględniając, które z nich jest poprawne w rzeczywistości\n",
    "    if (returnAdditional)\n",
    "        return (x1, y1, z1, T1, x2, y2, z2, T2)\n",
    "    end\n",
    "    \n",
    "    # obliczamy długość wektorów obu rozwiązań\n",
    "    l1 = vector_length([x1, y1, z1])\n",
    "    l2 = vector_length([x2, y2, z2])\n",
    "    \n",
    "    # szukamy wektora najbliższego \"jedynce\", bo taki punkt leży na powierzchni ziemi.\n",
    "    if (abs(l1 - 1) < abs(l2 - 2))\n",
    "        # bierzemy l1\n",
    "        return (x1, y1, z1, T1)\n",
    "    else\n",
    "        # bierzemy l2\n",
    "        return (x2, y2, z2, T2)\n",
    "    end\n",
    "end"
   ]
  },
  {
   "cell_type": "markdown",
   "metadata": {},
   "source": [
    "# Testy"
   ]
  },
  {
   "cell_type": "markdown",
   "metadata": {},
   "source": [
    "### Test porównywany z WolframAlpha"
   ]
  },
  {
   "cell_type": "code",
   "execution_count": 11,
   "metadata": {},
   "outputs": [
    {
     "name": "stdout",
     "output_type": "stream",
     "text": [
      "x = 2.239760529500195133375243477978869457278884307359817863706413422180722691069268e+02\n",
      "wx = 2.239760529500195133375243477978869457278884307359817863706413422180722691069091e+02\n",
      "y = 6.104855730339634595739853477070692526098388632382039894935164939809653230848702e+01\n",
      "wy = 6.104855730339634595739853477070692526098388632382039894935164939809653230848371e+01\n",
      "z = 4.134459221960592670108919045616358920505254803147029313016990423898669392988874e+02\n",
      "wz = 4.134459221960592670108919045616358920505254803147029313016990423898669392988829e+02\n",
      "T = 2.589054125352197925516921735901404641329853229753849621370095008489109098608017e+02\n",
      "wt = 2.589054125352197925516921735901404641329853229753849621370095008489109098607928e+02\n",
      "BigFloat(x - wx) = 1.768687320083342259279124861501521832164556874636550427652854470690527601287665e-74\n",
      "BigFloat(y - wy) = 3.316288725156266736148359115315353435308544139943532051849102132544739252414372e-75\n",
      "BigFloat(z - wz) = 4.421718300208355648197812153753804580411392186591376069132136176726319003219163e-75\n",
      "BigFloat(T - wt) = 8.843436600416711296395624307507609160822784373182752138264272353452638006438325e-75\n"
     ]
    },
    {
     "data": {
      "text/plain": [
       "8.843436600416711296395624307507609160822784373182752138264272353452638006438325e-75"
      ]
     },
     "execution_count": 11,
     "metadata": {},
     "output_type": "execute_result"
    }
   ],
   "source": [
    "input = Array{BigFloat, 2}([\n",
    "        234 123 342 354\n",
    "        231 234 413 432\n",
    "        321 352 643 642\n",
    "        213 302 521 523\n",
    "        ])\n",
    "\n",
    "(x, y, z, T) = solve(input)\n",
    "\n",
    "#wynik z wolframi dla input2\n",
    "#www.wolframalpha.com/input/?i=(x-234)%5E2%2B(y-123)%5E2%2B(z-342)%5E2%3D(354-t)%5E2%26(x-231)%5E2%2B(y-234)%5E2%2B(z-413)%5E2%3D(432-t)%5E2%26(x-321)%5E2%2B(y-352)%5E2%2B(z-643)%5E2%3D(642-t)%5E2%26(x-213)%5E2%2B(y-302)%5E2%2B(z-521)%5E2%3D(523-t)%5E2\n",
    "wt=BigFloat(\"258.90541253521979255169217359014046413298532297538496213700950084891090986079279748715260300885471628639428258935548708617074093045927643023059966474908285331652876368532838597086974632959399876248459798137375107041025588345608791602437461595225006236650415890733337325157320245930304311528397848893036872242961094526054\")\n",
    "wx=BigFloat(\"223.97605295001951333752434779788694572788843073598178637064134221807226910690887169329937636911868205554791171603978094083021244405995854257404538636105038891389729785876273152603743979230619944696330804570137409421282285131650441693455534368016310746434438468256083701709075569430631865349001181222157309587196803167973\")\n",
    "wy=BigFloat(\"61.04855730339634595739853477070692526098388632382039894935164939809653230848396618322247969975455103201107108181604331460909801324837418755964076023938653212800110907221228712080692660378951191317797066506111207616428761160172560969277675603957978602017641354021401860035385691274352592735656124370264428333344536079944\")\n",
    "wz=BigFloat(\"413.44592219605926701089190456163589205052548031470293130169904238986693929888513482732543545246857397115730826811642996650983873855540707558575754398506631914398327259177941450558286873330443210495681440651370796225919017712299757781417839654820616815127853022332295154978456255766232311290200083834140794629736792643132\")\n",
    "\n",
    "@show x\n",
    "@show wx\n",
    "@show y\n",
    "@show wy\n",
    "@show z\n",
    "@show wz\n",
    "@show T\n",
    "@show wt\n",
    "\n",
    "@show BigFloat(x - wx)\n",
    "@show BigFloat(y - wy)\n",
    "@show BigFloat(z - wz)\n",
    "@show BigFloat(T - wt)"
   ]
  },
  {
   "cell_type": "markdown",
   "metadata": {},
   "source": [
    "## Losowo wygenerowane testy"
   ]
  },
  {
   "cell_type": "code",
   "execution_count": 12,
   "metadata": {},
   "outputs": [
    {
     "data": {
      "text/plain": [
       "test (generic function with 1 method)"
      ]
     },
     "execution_count": 12,
     "metadata": {},
     "output_type": "execute_result"
    }
   ],
   "source": [
    "function gen_test(satellites)\n",
    "    # wektor [x; y; z; t] - (x, y, z): nasza pozycja, t: błąd zegara\n",
    "    X = vcat(Array{BigFloat}(2000 * rand(3) - 1000) .^ 3, Array{BigFloat}(100 * randn(1)) .^ 3)\n",
    "    data = Array{BigFloat, 2}(4, satellites)\n",
    "    for i = 1:satellites\n",
    "        v = Array{BigFloat}(2000 * rand(3) - 1000) .^ 3\n",
    "        data[:, i] = X + vcat(v, norm(v) / C)\n",
    "    end\n",
    "    return data, X\n",
    "end\n",
    "\n",
    "function transposeMatrix(matrix)\n",
    "    tmatrix = Array{BigFloat, 2}(4, 4)\n",
    "    \n",
    "    for i = 1:4\n",
    "        for j = 1:4\n",
    "            tmatrix[i, j] = matrix[j, i]\n",
    "        end\n",
    "    end\n",
    "    \n",
    "    return tmatrix\n",
    "end\n",
    "\n",
    "function test(testsNumber)\n",
    "    maxError = 0\n",
    "    for i = 1:testsNumber\n",
    "        (X, data) = gen_test(4)\n",
    "        transposedX = transposeMatrix(X)\n",
    "        (x1, y1, z1, T1, x2, y2, z2, T2) = solve(transposedX, true)\n",
    "        \n",
    "        # testy są generowane losowo, zatem potrzebujemy dwoch rozwiazań z metody solve, aby sprawdzić dokładność wyników\n",
    "        x = x1\n",
    "        y = y1\n",
    "        z = z1\n",
    "        T = T1\n",
    "        if (abs(T1 - data[4]) > abs(T2 - data[4]))\n",
    "             x = x2\n",
    "             y = y2\n",
    "             z = z2\n",
    "             T = T2\n",
    "        end\n",
    "        \n",
    "        epsX = abs(x - data[1])\n",
    "        epsY = abs(y - data[2])\n",
    "        epsZ = abs(z - data[3])\n",
    "        epsT = abs(T - data[4])\n",
    "        \n",
    "        maxLocalError = max(epsX, epsY, epsZ, epsT)\n",
    "        if (maxLocalError > maxError)\n",
    "            maxError = maxLocalError\n",
    "        end\n",
    "    end\n",
    "    \n",
    "    return maxError\n",
    "end"
   ]
  },
  {
   "cell_type": "code",
   "execution_count": 13,
   "metadata": {},
   "outputs": [
    {
     "data": {
      "text/plain": [
       "5.571114043894142119089128328452169652617985416022852628335014542173027821895095e-62"
      ]
     },
     "execution_count": 13,
     "metadata": {},
     "output_type": "execute_result"
    }
   ],
   "source": [
    "test(100000)"
   ]
  }
 ],
 "metadata": {
  "kernelspec": {
   "display_name": "Julia 0.6.0",
   "language": "julia",
   "name": "julia-0.6"
  },
  "language_info": {
   "file_extension": ".jl",
   "mimetype": "application/julia",
   "name": "julia",
   "version": "0.6.0"
  }
 },
 "nbformat": 4,
 "nbformat_minor": 2
}
